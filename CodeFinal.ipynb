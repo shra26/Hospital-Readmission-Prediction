{
 "cells": [
  {
   "cell_type": "markdown",
   "metadata": {
    "colab_type": "text",
    "id": "6P4665Yt4oKt"
   },
   "source": [
    "***Imports***"
   ]
  },
  {
   "cell_type": "code",
   "execution_count": 38,
   "metadata": {
    "colab": {
     "base_uri": "https://localhost:8080/",
     "height": 72
    },
    "colab_type": "code",
    "id": "HmTY1hXr125h",
    "outputId": "96acd901-80e7-4180-be33-03e2a44ab52b"
   },
   "outputs": [],
   "source": [
    "import pandas as pd\n",
    "import numpy as np\n",
    "import matplotlib.pyplot as plt\n",
    "import seaborn as sns\n",
    "import scipy as sp\n",
    "from matplotlib.colors import ListedColormap\n",
    "from imblearn.over_sampling import SMOTE\n",
    "from collections import Counter\n",
    "from sklearn.model_selection import train_test_split\n",
    "from sklearn.linear_model import LogisticRegression\n",
    "from sklearn.model_selection import cross_val_score\n",
    "from sklearn.metrics import accuracy_score, precision_score, recall_score\n",
    "from sklearn.tree import DecisionTreeClassifier\n",
    "from sklearn.ensemble import RandomForestClassifier\n",
    "from sklearn.linear_model import LinearRegression\n",
    "from sklearn.neural_network import MLPClassifier\n",
    "from sklearn.svm import SVC\n",
    "# from sklearn import datasets"
   ]
  },
  {
   "cell_type": "markdown",
   "metadata": {
    "colab_type": "text",
    "id": "jBDKw6sl4gYR"
   },
   "source": [
    "***Data Loading***"
   ]
  },
  {
   "cell_type": "code",
   "execution_count": 2,
   "metadata": {
    "colab": {},
    "colab_type": "code",
    "id": "XebEwgTh4k4a"
   },
   "outputs": [],
   "source": [
    "df = pd.read_csv(\"diabetic_data.csv\")\n",
    "df1 = pd.read_csv(\"filtered.csv\")\n",
    "df2 = pd.read_csv(\"filtered_final2.csv\")"
   ]
  },
  {
   "cell_type": "code",
   "execution_count": 3,
   "metadata": {
    "colab": {
     "base_uri": "https://localhost:8080/",
     "height": 393
    },
    "colab_type": "code",
    "id": "FkZhQC4R5kEb",
    "outputId": "4eaf374e-cd28-451f-ea43-169def5f9bdf",
    "scrolled": true
   },
   "outputs": [
    {
     "data": {
      "text/html": [
       "<div>\n",
       "<style scoped>\n",
       "    .dataframe tbody tr th:only-of-type {\n",
       "        vertical-align: middle;\n",
       "    }\n",
       "\n",
       "    .dataframe tbody tr th {\n",
       "        vertical-align: top;\n",
       "    }\n",
       "\n",
       "    .dataframe thead th {\n",
       "        text-align: right;\n",
       "    }\n",
       "</style>\n",
       "<table border=\"1\" class=\"dataframe\">\n",
       "  <thead>\n",
       "    <tr style=\"text-align: right;\">\n",
       "      <th></th>\n",
       "      <th>Unnamed: 0</th>\n",
       "      <th>encounter_id</th>\n",
       "      <th>patient_nbr</th>\n",
       "      <th>age</th>\n",
       "      <th>time_in_hospital</th>\n",
       "      <th>num_lab_procedures</th>\n",
       "      <th>num_procedures</th>\n",
       "      <th>num_medications</th>\n",
       "      <th>number_diagnoses</th>\n",
       "      <th>metformin</th>\n",
       "      <th>...</th>\n",
       "      <th>level1_diag1_4.0</th>\n",
       "      <th>level1_diag1_5.0</th>\n",
       "      <th>level1_diag1_6.0</th>\n",
       "      <th>level1_diag1_7.0</th>\n",
       "      <th>level1_diag1_8.0</th>\n",
       "      <th>AfricanAmerican</th>\n",
       "      <th>Asian</th>\n",
       "      <th>Caucasian</th>\n",
       "      <th>Hispanic</th>\n",
       "      <th>Other</th>\n",
       "    </tr>\n",
       "  </thead>\n",
       "  <tbody>\n",
       "    <tr>\n",
       "      <th>0</th>\n",
       "      <td>1</td>\n",
       "      <td>149190</td>\n",
       "      <td>55629189</td>\n",
       "      <td>15</td>\n",
       "      <td>-0.444872</td>\n",
       "      <td>0.803605</td>\n",
       "      <td>-0.816784</td>\n",
       "      <td>0.270081</td>\n",
       "      <td>0.881754</td>\n",
       "      <td>0</td>\n",
       "      <td>...</td>\n",
       "      <td>0</td>\n",
       "      <td>0</td>\n",
       "      <td>0</td>\n",
       "      <td>0</td>\n",
       "      <td>0</td>\n",
       "      <td>0</td>\n",
       "      <td>0</td>\n",
       "      <td>1</td>\n",
       "      <td>0</td>\n",
       "      <td>0</td>\n",
       "    </tr>\n",
       "    <tr>\n",
       "      <th>1</th>\n",
       "      <td>2</td>\n",
       "      <td>64410</td>\n",
       "      <td>86047875</td>\n",
       "      <td>25</td>\n",
       "      <td>-0.784109</td>\n",
       "      <td>-1.602060</td>\n",
       "      <td>2.026788</td>\n",
       "      <td>-0.335198</td>\n",
       "      <td>-0.704844</td>\n",
       "      <td>0</td>\n",
       "      <td>...</td>\n",
       "      <td>0</td>\n",
       "      <td>0</td>\n",
       "      <td>0</td>\n",
       "      <td>0</td>\n",
       "      <td>0</td>\n",
       "      <td>1</td>\n",
       "      <td>0</td>\n",
       "      <td>0</td>\n",
       "      <td>0</td>\n",
       "      <td>0</td>\n",
       "    </tr>\n",
       "    <tr>\n",
       "      <th>2</th>\n",
       "      <td>3</td>\n",
       "      <td>500364</td>\n",
       "      <td>82442376</td>\n",
       "      <td>35</td>\n",
       "      <td>-0.784109</td>\n",
       "      <td>0.051835</td>\n",
       "      <td>-0.248070</td>\n",
       "      <td>0.027969</td>\n",
       "      <td>-0.175978</td>\n",
       "      <td>0</td>\n",
       "      <td>...</td>\n",
       "      <td>0</td>\n",
       "      <td>0</td>\n",
       "      <td>0</td>\n",
       "      <td>0</td>\n",
       "      <td>0</td>\n",
       "      <td>0</td>\n",
       "      <td>0</td>\n",
       "      <td>1</td>\n",
       "      <td>0</td>\n",
       "      <td>0</td>\n",
       "    </tr>\n",
       "    <tr>\n",
       "      <th>3</th>\n",
       "      <td>4</td>\n",
       "      <td>16680</td>\n",
       "      <td>42519267</td>\n",
       "      <td>45</td>\n",
       "      <td>-1.123345</td>\n",
       "      <td>0.402661</td>\n",
       "      <td>-0.816784</td>\n",
       "      <td>-0.940477</td>\n",
       "      <td>-1.233711</td>\n",
       "      <td>0</td>\n",
       "      <td>...</td>\n",
       "      <td>0</td>\n",
       "      <td>0</td>\n",
       "      <td>0</td>\n",
       "      <td>0</td>\n",
       "      <td>1</td>\n",
       "      <td>0</td>\n",
       "      <td>0</td>\n",
       "      <td>1</td>\n",
       "      <td>0</td>\n",
       "      <td>0</td>\n",
       "    </tr>\n",
       "    <tr>\n",
       "      <th>4</th>\n",
       "      <td>5</td>\n",
       "      <td>35754</td>\n",
       "      <td>82637451</td>\n",
       "      <td>55</td>\n",
       "      <td>-0.444872</td>\n",
       "      <td>-0.599700</td>\n",
       "      <td>2.595502</td>\n",
       "      <td>0.027969</td>\n",
       "      <td>0.881754</td>\n",
       "      <td>0</td>\n",
       "      <td>...</td>\n",
       "      <td>0</td>\n",
       "      <td>0</td>\n",
       "      <td>0</td>\n",
       "      <td>0</td>\n",
       "      <td>0</td>\n",
       "      <td>0</td>\n",
       "      <td>0</td>\n",
       "      <td>1</td>\n",
       "      <td>0</td>\n",
       "      <td>0</td>\n",
       "    </tr>\n",
       "    <tr>\n",
       "      <th>5</th>\n",
       "      <td>6</td>\n",
       "      <td>55842</td>\n",
       "      <td>84259809</td>\n",
       "      <td>65</td>\n",
       "      <td>-0.105636</td>\n",
       "      <td>1.354904</td>\n",
       "      <td>-0.248070</td>\n",
       "      <td>0.633248</td>\n",
       "      <td>-0.175978</td>\n",
       "      <td>1</td>\n",
       "      <td>...</td>\n",
       "      <td>0</td>\n",
       "      <td>0</td>\n",
       "      <td>0</td>\n",
       "      <td>0</td>\n",
       "      <td>0</td>\n",
       "      <td>0</td>\n",
       "      <td>0</td>\n",
       "      <td>1</td>\n",
       "      <td>0</td>\n",
       "      <td>0</td>\n",
       "    </tr>\n",
       "    <tr>\n",
       "      <th>6</th>\n",
       "      <td>7</td>\n",
       "      <td>63768</td>\n",
       "      <td>114882984</td>\n",
       "      <td>75</td>\n",
       "      <td>0.233600</td>\n",
       "      <td>1.505258</td>\n",
       "      <td>-0.816784</td>\n",
       "      <td>-0.456254</td>\n",
       "      <td>0.352888</td>\n",
       "      <td>0</td>\n",
       "      <td>...</td>\n",
       "      <td>0</td>\n",
       "      <td>0</td>\n",
       "      <td>0</td>\n",
       "      <td>0</td>\n",
       "      <td>0</td>\n",
       "      <td>0</td>\n",
       "      <td>0</td>\n",
       "      <td>1</td>\n",
       "      <td>0</td>\n",
       "      <td>0</td>\n",
       "    </tr>\n",
       "    <tr>\n",
       "      <th>7</th>\n",
       "      <td>8</td>\n",
       "      <td>12522</td>\n",
       "      <td>48330783</td>\n",
       "      <td>85</td>\n",
       "      <td>2.947491</td>\n",
       "      <td>1.254668</td>\n",
       "      <td>0.320645</td>\n",
       "      <td>1.480639</td>\n",
       "      <td>0.352888</td>\n",
       "      <td>0</td>\n",
       "      <td>...</td>\n",
       "      <td>0</td>\n",
       "      <td>0</td>\n",
       "      <td>0</td>\n",
       "      <td>0</td>\n",
       "      <td>0</td>\n",
       "      <td>0</td>\n",
       "      <td>0</td>\n",
       "      <td>1</td>\n",
       "      <td>0</td>\n",
       "      <td>0</td>\n",
       "    </tr>\n",
       "    <tr>\n",
       "      <th>8</th>\n",
       "      <td>9</td>\n",
       "      <td>15738</td>\n",
       "      <td>63555939</td>\n",
       "      <td>95</td>\n",
       "      <td>2.608255</td>\n",
       "      <td>-0.499463</td>\n",
       "      <td>0.889359</td>\n",
       "      <td>0.270081</td>\n",
       "      <td>0.352888</td>\n",
       "      <td>0</td>\n",
       "      <td>...</td>\n",
       "      <td>0</td>\n",
       "      <td>0</td>\n",
       "      <td>0</td>\n",
       "      <td>0</td>\n",
       "      <td>0</td>\n",
       "      <td>0</td>\n",
       "      <td>0</td>\n",
       "      <td>1</td>\n",
       "      <td>0</td>\n",
       "      <td>0</td>\n",
       "    </tr>\n",
       "    <tr>\n",
       "      <th>9</th>\n",
       "      <td>10</td>\n",
       "      <td>28236</td>\n",
       "      <td>89869032</td>\n",
       "      <td>45</td>\n",
       "      <td>1.590546</td>\n",
       "      <td>0.202189</td>\n",
       "      <td>0.320645</td>\n",
       "      <td>0.149025</td>\n",
       "      <td>0.881754</td>\n",
       "      <td>0</td>\n",
       "      <td>...</td>\n",
       "      <td>1</td>\n",
       "      <td>0</td>\n",
       "      <td>0</td>\n",
       "      <td>0</td>\n",
       "      <td>0</td>\n",
       "      <td>1</td>\n",
       "      <td>0</td>\n",
       "      <td>0</td>\n",
       "      <td>0</td>\n",
       "      <td>0</td>\n",
       "    </tr>\n",
       "  </tbody>\n",
       "</table>\n",
       "<p>10 rows × 82 columns</p>\n",
       "</div>"
      ],
      "text/plain": [
       "   Unnamed: 0  encounter_id  patient_nbr  age  time_in_hospital  \\\n",
       "0           1        149190     55629189   15         -0.444872   \n",
       "1           2         64410     86047875   25         -0.784109   \n",
       "2           3        500364     82442376   35         -0.784109   \n",
       "3           4         16680     42519267   45         -1.123345   \n",
       "4           5         35754     82637451   55         -0.444872   \n",
       "5           6         55842     84259809   65         -0.105636   \n",
       "6           7         63768    114882984   75          0.233600   \n",
       "7           8         12522     48330783   85          2.947491   \n",
       "8           9         15738     63555939   95          2.608255   \n",
       "9          10         28236     89869032   45          1.590546   \n",
       "\n",
       "   num_lab_procedures  num_procedures  num_medications  number_diagnoses  \\\n",
       "0            0.803605       -0.816784         0.270081          0.881754   \n",
       "1           -1.602060        2.026788        -0.335198         -0.704844   \n",
       "2            0.051835       -0.248070         0.027969         -0.175978   \n",
       "3            0.402661       -0.816784        -0.940477         -1.233711   \n",
       "4           -0.599700        2.595502         0.027969          0.881754   \n",
       "5            1.354904       -0.248070         0.633248         -0.175978   \n",
       "6            1.505258       -0.816784        -0.456254          0.352888   \n",
       "7            1.254668        0.320645         1.480639          0.352888   \n",
       "8           -0.499463        0.889359         0.270081          0.352888   \n",
       "9            0.202189        0.320645         0.149025          0.881754   \n",
       "\n",
       "   metformin  ...  level1_diag1_4.0  level1_diag1_5.0  level1_diag1_6.0  \\\n",
       "0          0  ...                 0                 0                 0   \n",
       "1          0  ...                 0                 0                 0   \n",
       "2          0  ...                 0                 0                 0   \n",
       "3          0  ...                 0                 0                 0   \n",
       "4          0  ...                 0                 0                 0   \n",
       "5          1  ...                 0                 0                 0   \n",
       "6          0  ...                 0                 0                 0   \n",
       "7          0  ...                 0                 0                 0   \n",
       "8          0  ...                 0                 0                 0   \n",
       "9          0  ...                 1                 0                 0   \n",
       "\n",
       "   level1_diag1_7.0  level1_diag1_8.0  AfricanAmerican  Asian  Caucasian  \\\n",
       "0                 0                 0                0      0          1   \n",
       "1                 0                 0                1      0          0   \n",
       "2                 0                 0                0      0          1   \n",
       "3                 0                 1                0      0          1   \n",
       "4                 0                 0                0      0          1   \n",
       "5                 0                 0                0      0          1   \n",
       "6                 0                 0                0      0          1   \n",
       "7                 0                 0                0      0          1   \n",
       "8                 0                 0                0      0          1   \n",
       "9                 0                 0                1      0          0   \n",
       "\n",
       "   Hispanic  Other  \n",
       "0         0      0  \n",
       "1         0      0  \n",
       "2         0      0  \n",
       "3         0      0  \n",
       "4         0      0  \n",
       "5         0      0  \n",
       "6         0      0  \n",
       "7         0      0  \n",
       "8         0      0  \n",
       "9         0      0  \n",
       "\n",
       "[10 rows x 82 columns]"
      ]
     },
     "execution_count": 3,
     "metadata": {},
     "output_type": "execute_result"
    }
   ],
   "source": [
    "df1.shape\n",
    "df1.head(10)"
   ]
  },
  {
   "cell_type": "code",
   "execution_count": 4,
   "metadata": {},
   "outputs": [],
   "source": [
    "feature_set = ['age', 'time_in_hospital', 'num_procedures', 'num_medications', 'number_outpatient_log1p', \n",
    "                 'number_emergency_log1p', 'number_inpatient_log1p', 'number_diagnoses', 'metformin', \n",
    "                 'repaglinide', 'nateglinide', 'chlorpropamide', 'glimepiride', 'glipizide', 'glyburide',\n",
    "                 'pioglitazone', 'rosiglitazone', 'acarbose', 'tolazamide', 'insulin', 'glyburide-metformin',\n",
    "                 'AfricanAmerican', 'Asian', 'Caucasian', 'Hispanic', 'Other', 'gender_1', \n",
    "                 'admission_type_id_3', 'admission_type_id_5', 'discharge_disposition_id_2', 'discharge_disposition_id_7', \n",
    "                 'discharge_disposition_id_10', 'discharge_disposition_id_18', 'admission_source_id_4',\n",
    "                 'admission_source_id_7', 'admission_source_id_9', 'max_glu_serum_0', 'A1Cresult_0', 'num_medications|time_in_hospital', 'num_medications|num_procedures',\n",
    "                 'time_in_hospital|num_lab_procedures', 'num_medications|num_lab_procedures', 'num_medications|number_diagnoses',\n",
    "                 'age|number_diagnoses', 'change|num_medications', 'number_diagnoses|time_in_hospital',\n",
    "                 'num_medications|numchange']\n",
    "\n",
    "# 'level1_diag1_1.0', 'level1_diag1_2.0', 'level1_diag1_3.0', 'level1_diag1_4.0',\n",
    "#                 'level1_diag1_5.0','level1_diag1_6.0', 'level1_diag1_7.0', 'level1_diag1_8.0', 'max_glu_serum_1', 'A1Cresult_1'"
   ]
  },
  {
   "cell_type": "markdown",
   "metadata": {
    "colab_type": "text",
    "id": "fBBRsq5b8H46"
   },
   "source": [
    "***Model***"
   ]
  },
  {
   "cell_type": "markdown",
   "metadata": {
    "colab_type": "text",
    "id": "KBuL65g_89oV"
   },
   "source": [
    "\n",
    "#Logistic Regression"
   ]
  },
  {
   "cell_type": "code",
   "execution_count": 5,
   "metadata": {
    "colab": {},
    "colab_type": "code",
    "id": "zopXwmnikA_h"
   },
   "outputs": [],
   "source": [
    "X = df2[feature_set]\n",
    "y = df2['readmitted']"
   ]
  },
  {
   "cell_type": "markdown",
   "metadata": {
    "colab_type": "text",
    "id": "5lrDdHohAuuu"
   },
   "source": [
    "Class imbalance exists, so we need to over sample with ***SMOTE***"
   ]
  },
  {
   "cell_type": "code",
   "execution_count": 6,
   "metadata": {
    "colab": {
     "base_uri": "https://localhost:8080/",
     "height": 52
    },
    "colab_type": "code",
    "id": "75Fm7gtnA5xJ",
    "outputId": "e9d0867e-a3d6-4915-f0f1-8758cb9f0d5a"
   },
   "outputs": [
    {
     "name": "stdout",
     "output_type": "stream",
     "text": [
      "Original dataset shape Counter({0: 41276, 1: 18430})\n",
      "New dataset shape Counter({1: 41276, 0: 41276})\n"
     ]
    }
   ],
   "source": [
    "print('Original dataset shape {}'.format(Counter(y)))\n",
    "sm = SMOTE(random_state=20)\n",
    "train_input_new, train_output_new = sm.fit_sample(X, y)\n",
    "print('New dataset shape {}'.format(Counter(train_output_new)))"
   ]
  },
  {
   "cell_type": "markdown",
   "metadata": {
    "colab_type": "text",
    "id": "BunJSD-5EnpI"
   },
   "source": [
    "Re-Training Logistic Regression"
   ]
  },
  {
   "cell_type": "code",
   "execution_count": 7,
   "metadata": {
    "colab": {
     "base_uri": "https://localhost:8080/",
     "height": 124
    },
    "colab_type": "code",
    "id": "5dskxUEuEaeJ",
    "outputId": "a50a2b82-04ca-4752-d013-f532518dcf69"
   },
   "outputs": [
    {
     "name": "stderr",
     "output_type": "stream",
     "text": [
      "/share/pkg.7/python3/3.7.3/install/lib/python3.7/site-packages/sklearn/linear_model/logistic.py:432: FutureWarning: Default solver will be changed to 'lbfgs' in 0.22. Specify a solver to silence this warning.\n",
      "  FutureWarning)\n"
     ]
    },
    {
     "name": "stdout",
     "output_type": "stream",
     "text": [
      "Accuracy is 0.58\n",
      "Precision is 0.58\n",
      "Recall is 0.58\n"
     ]
    }
   ],
   "source": [
    "X_train, X_test, y_train, y_test = train_test_split(train_input_new, train_output_new, test_size=0.20, random_state=0)\n",
    "logit = LogisticRegression(fit_intercept=True, penalty='l1')\n",
    "logit.fit(X_test, y_test)\n",
    "logit_pred = logit.predict(X_test)\n",
    "pd.crosstab(pd.Series(y_test, name = 'Actual'), pd.Series(logit_pred, name = 'Predict'), margins = True)\n",
    "print(\"Accuracy is {0:.2f}\".format(accuracy_score(y_test, logit_pred)))\n",
    "print(\"Precision is {0:.2f}\".format(precision_score(y_test, logit_pred)))\n",
    "print(\"Recall is {0:.2f}\".format(recall_score(y_test, logit_pred)))"
   ]
  },
  {
   "cell_type": "code",
   "execution_count": 8,
   "metadata": {
    "colab": {},
    "colab_type": "code",
    "id": "t_R2XZC2EuoC"
   },
   "outputs": [],
   "source": [
    "accuracy_logit = accuracy_score(y_test, logit_pred)\n",
    "precision_logit = precision_score(y_test, logit_pred)\n",
    "recall_logit = recall_score(y_test, logit_pred)"
   ]
  },
  {
   "cell_type": "markdown",
   "metadata": {
    "colab_type": "text",
    "id": "EsMtgR7Xg-vm"
   },
   "source": [
    "#Linear Regression"
   ]
  },
  {
   "cell_type": "code",
   "execution_count": 9,
   "metadata": {
    "colab": {
     "base_uri": "https://localhost:8080/",
     "height": 69
    },
    "colab_type": "code",
    "id": "6AxSae4bhgFL",
    "outputId": "2f8abe5d-43db-45ad-97c8-e3be7bbd5849"
   },
   "outputs": [
    {
     "data": {
      "text/plain": [
       "0    41276\n",
       "1    18430\n",
       "Name: readmitted, dtype: int64"
      ]
     },
     "execution_count": 9,
     "metadata": {},
     "output_type": "execute_result"
    }
   ],
   "source": [
    "X = df2[feature_set]\n",
    "y = df2['readmitted']\n",
    "df2['readmitted'].value_counts()"
   ]
  },
  {
   "cell_type": "code",
   "execution_count": 10,
   "metadata": {
    "colab": {
     "base_uri": "https://localhost:8080/",
     "height": 52
    },
    "colab_type": "code",
    "id": "1JazJwy2f4Wf",
    "outputId": "1ede58b7-5bbc-402b-a9f2-569c0fbc8f74"
   },
   "outputs": [
    {
     "name": "stdout",
     "output_type": "stream",
     "text": [
      "Original dataset shape Counter({0: 41276, 1: 18430})\n",
      "New dataset shape Counter({1: 41276, 0: 41276})\n"
     ]
    }
   ],
   "source": [
    "print('Original dataset shape {}'.format(Counter(y)))\n",
    "sm = SMOTE(random_state=20)\n",
    "train_input_new, train_output_new = sm.fit_sample(X, y)\n",
    "print('New dataset shape {}'.format(Counter(train_output_new)))\n",
    "X_train, X_test, y_train, y_test = train_test_split(train_input_new, train_output_new, test_size=0.20, random_state=0)"
   ]
  },
  {
   "cell_type": "code",
   "execution_count": 11,
   "metadata": {
    "colab": {
     "base_uri": "https://localhost:8080/",
     "height": 35
    },
    "colab_type": "code",
    "id": "Fmox2y9rgdJZ",
    "outputId": "4221803b-3d94-4dad-8c52-8e6e5712c6f1"
   },
   "outputs": [
    {
     "data": {
      "text/plain": [
       "LinearRegression(copy_X=True, fit_intercept=True, n_jobs=None, normalize=False)"
      ]
     },
     "execution_count": 11,
     "metadata": {},
     "output_type": "execute_result"
    }
   ],
   "source": [
    "linit = LinearRegression()\n",
    "linit.fit(train_input_new, train_output_new)"
   ]
  },
  {
   "cell_type": "code",
   "execution_count": 12,
   "metadata": {
    "colab": {
     "base_uri": "https://localhost:8080/",
     "height": 221
    },
    "colab_type": "code",
    "id": "eghSOAAaikMY",
    "outputId": "ed8e0c81-699d-4c4a-8a08-af755d975b6f"
   },
   "outputs": [
    {
     "data": {
      "text/html": [
       "<div>\n",
       "<style scoped>\n",
       "    .dataframe tbody tr th:only-of-type {\n",
       "        vertical-align: middle;\n",
       "    }\n",
       "\n",
       "    .dataframe tbody tr th {\n",
       "        vertical-align: top;\n",
       "    }\n",
       "\n",
       "    .dataframe thead th {\n",
       "        text-align: right;\n",
       "    }\n",
       "</style>\n",
       "<table border=\"1\" class=\"dataframe\">\n",
       "  <thead>\n",
       "    <tr style=\"text-align: right;\">\n",
       "      <th>Predict</th>\n",
       "      <th>0.08411407002651372</th>\n",
       "      <th>0.09017009354756084</th>\n",
       "      <th>0.09744257206804086</th>\n",
       "      <th>0.13245323646324952</th>\n",
       "      <th>0.14643930829774537</th>\n",
       "      <th>0.15282839252008984</th>\n",
       "      <th>0.159664813059763</th>\n",
       "      <th>0.16035940204133206</th>\n",
       "      <th>0.1609616390346999</th>\n",
       "      <th>0.161795950581125</th>\n",
       "      <th>...</th>\n",
       "      <th>0.8749963132102204</th>\n",
       "      <th>0.8763642125519492</th>\n",
       "      <th>0.8929996397847105</th>\n",
       "      <th>0.8972378690077522</th>\n",
       "      <th>0.9116638027175605</th>\n",
       "      <th>0.9135536386961919</th>\n",
       "      <th>0.9244564168247859</th>\n",
       "      <th>0.9574038239007266</th>\n",
       "      <th>0.9691671737012215</th>\n",
       "      <th>All</th>\n",
       "    </tr>\n",
       "    <tr>\n",
       "      <th>Actual</th>\n",
       "      <th></th>\n",
       "      <th></th>\n",
       "      <th></th>\n",
       "      <th></th>\n",
       "      <th></th>\n",
       "      <th></th>\n",
       "      <th></th>\n",
       "      <th></th>\n",
       "      <th></th>\n",
       "      <th></th>\n",
       "      <th></th>\n",
       "      <th></th>\n",
       "      <th></th>\n",
       "      <th></th>\n",
       "      <th></th>\n",
       "      <th></th>\n",
       "      <th></th>\n",
       "      <th></th>\n",
       "      <th></th>\n",
       "      <th></th>\n",
       "      <th></th>\n",
       "    </tr>\n",
       "  </thead>\n",
       "  <tbody>\n",
       "    <tr>\n",
       "      <th>0</th>\n",
       "      <td>1</td>\n",
       "      <td>1</td>\n",
       "      <td>1</td>\n",
       "      <td>1</td>\n",
       "      <td>1</td>\n",
       "      <td>1</td>\n",
       "      <td>1</td>\n",
       "      <td>1</td>\n",
       "      <td>1</td>\n",
       "      <td>1</td>\n",
       "      <td>...</td>\n",
       "      <td>0</td>\n",
       "      <td>0</td>\n",
       "      <td>0</td>\n",
       "      <td>1</td>\n",
       "      <td>1</td>\n",
       "      <td>1</td>\n",
       "      <td>1</td>\n",
       "      <td>0</td>\n",
       "      <td>1</td>\n",
       "      <td>8194</td>\n",
       "    </tr>\n",
       "    <tr>\n",
       "      <th>1</th>\n",
       "      <td>0</td>\n",
       "      <td>0</td>\n",
       "      <td>0</td>\n",
       "      <td>0</td>\n",
       "      <td>0</td>\n",
       "      <td>0</td>\n",
       "      <td>0</td>\n",
       "      <td>0</td>\n",
       "      <td>0</td>\n",
       "      <td>0</td>\n",
       "      <td>...</td>\n",
       "      <td>1</td>\n",
       "      <td>1</td>\n",
       "      <td>1</td>\n",
       "      <td>0</td>\n",
       "      <td>0</td>\n",
       "      <td>0</td>\n",
       "      <td>0</td>\n",
       "      <td>1</td>\n",
       "      <td>0</td>\n",
       "      <td>8317</td>\n",
       "    </tr>\n",
       "    <tr>\n",
       "      <th>All</th>\n",
       "      <td>1</td>\n",
       "      <td>1</td>\n",
       "      <td>1</td>\n",
       "      <td>1</td>\n",
       "      <td>1</td>\n",
       "      <td>1</td>\n",
       "      <td>1</td>\n",
       "      <td>1</td>\n",
       "      <td>1</td>\n",
       "      <td>1</td>\n",
       "      <td>...</td>\n",
       "      <td>1</td>\n",
       "      <td>1</td>\n",
       "      <td>1</td>\n",
       "      <td>1</td>\n",
       "      <td>1</td>\n",
       "      <td>1</td>\n",
       "      <td>1</td>\n",
       "      <td>1</td>\n",
       "      <td>1</td>\n",
       "      <td>16511</td>\n",
       "    </tr>\n",
       "  </tbody>\n",
       "</table>\n",
       "<p>3 rows × 16510 columns</p>\n",
       "</div>"
      ],
      "text/plain": [
       "Predict  0.08411407002651372  0.09017009354756084  0.09744257206804086  \\\n",
       "Actual                                                                   \n",
       "0                          1                    1                    1   \n",
       "1                          0                    0                    0   \n",
       "All                        1                    1                    1   \n",
       "\n",
       "Predict  0.13245323646324952  0.14643930829774537  0.15282839252008984  \\\n",
       "Actual                                                                   \n",
       "0                          1                    1                    1   \n",
       "1                          0                    0                    0   \n",
       "All                        1                    1                    1   \n",
       "\n",
       "Predict  0.159664813059763  0.16035940204133206  0.1609616390346999  \\\n",
       "Actual                                                                \n",
       "0                        1                    1                   1   \n",
       "1                        0                    0                   0   \n",
       "All                      1                    1                   1   \n",
       "\n",
       "Predict  0.161795950581125  ...  0.8749963132102204  0.8763642125519492  \\\n",
       "Actual                      ...                                           \n",
       "0                        1  ...                   0                   0   \n",
       "1                        0  ...                   1                   1   \n",
       "All                      1  ...                   1                   1   \n",
       "\n",
       "Predict  0.8929996397847105  0.8972378690077522  0.9116638027175605  \\\n",
       "Actual                                                                \n",
       "0                         0                   1                   1   \n",
       "1                         1                   0                   0   \n",
       "All                       1                   1                   1   \n",
       "\n",
       "Predict  0.9135536386961919  0.9244564168247859  0.9574038239007266  \\\n",
       "Actual                                                                \n",
       "0                         1                   1                   0   \n",
       "1                         0                   0                   1   \n",
       "All                       1                   1                   1   \n",
       "\n",
       "Predict  0.9691671737012215    All  \n",
       "Actual                              \n",
       "0                         1   8194  \n",
       "1                         0   8317  \n",
       "All                       1  16511  \n",
       "\n",
       "[3 rows x 16510 columns]"
      ]
     },
     "execution_count": 12,
     "metadata": {},
     "output_type": "execute_result"
    }
   ],
   "source": [
    "linit_pred = linit.predict(X_test)\n",
    "pd.crosstab(pd.Series(y_test, name = 'Actual'), pd.Series(linit_pred, name = 'Predict'), margins = True)"
   ]
  },
  {
   "cell_type": "code",
   "execution_count": 13,
   "metadata": {
    "colab": {
     "base_uri": "https://localhost:8080/",
     "height": 69
    },
    "colab_type": "code",
    "id": "hgPkb0WIjlzZ",
    "outputId": "5b957d36-a2fa-4325-c589-053bd42d4813",
    "scrolled": true
   },
   "outputs": [
    {
     "name": "stdout",
     "output_type": "stream",
     "text": [
      "Accuracy is 0.58\n",
      "Precision is 0.58\n",
      "Recall is 0.58\n"
     ]
    }
   ],
   "source": [
    "print(\"Accuracy is {0:.2f}\".format(accuracy_score(y_test, linit_pred.round())))\n",
    "print(\"Precision is {0:.2f}\".format(precision_score(y_test, linit_pred.round())))\n",
    "print(\"Recall is {0:.2f}\".format(recall_score(y_test, linit_pred.round())))\n",
    "\n",
    "accuracy_linit = accuracy_score(y_test, linit_pred.round())\n",
    "precision_linit = precision_score(y_test, linit_pred.round())\n",
    "recall_linit = recall_score(y_test, linit_pred.round())"
   ]
  },
  {
   "cell_type": "markdown",
   "metadata": {
    "colab_type": "text",
    "id": "mfII-0gTbZLi"
   },
   "source": [
    "#Decision Tree"
   ]
  },
  {
   "cell_type": "code",
   "execution_count": 14,
   "metadata": {
    "colab": {},
    "colab_type": "code",
    "id": "GVxMP9Ejkztz"
   },
   "outputs": [],
   "source": [
    "feature_set_no_int = [\n",
    "    'age',\n",
    "    'time_in_hospital',\n",
    "    'num_procedures',\n",
    "    'num_medications',\n",
    "    'number_outpatient_log1p',\n",
    "    'number_emergency_log1p',\n",
    "    'number_inpatient_log1p',\n",
    "    'number_diagnoses',\n",
    "    'metformin',\n",
    "    'repaglinide',\n",
    "    'nateglinide',\n",
    "    'chlorpropamide',\n",
    "    'glimepiride',\n",
    "    'glipizide',\n",
    "    'glyburide',\n",
    "    'pioglitazone',\n",
    "    'rosiglitazone',\n",
    "    'acarbose',\n",
    "    'tolazamide',\n",
    "    'insulin',\n",
    "    'glyburide-metformin',\n",
    "    'AfricanAmerican',\n",
    "    'Asian',\n",
    "    'Caucasian',\n",
    "    'Hispanic',\n",
    "    'Other',\n",
    "    'gender_1',\n",
    "    'admission_type_id_3',\n",
    "    'admission_type_id_5',\n",
    "    'discharge_disposition_id_2',\n",
    "    'discharge_disposition_id_7',\n",
    "    'discharge_disposition_id_10',\n",
    "    'discharge_disposition_id_18',\n",
    "    'admission_source_id_4',\n",
    "    'admission_source_id_7',\n",
    "    'admission_source_id_9',\n",
    "    'max_glu_serum_0',\n",
    "    'max_glu_serum_1',\n",
    "    'A1Cresult_0',\n",
    "    'A1Cresult_1',\n",
    "    'level1_diag1_1.0',\n",
    "    'level1_diag1_2.0',\n",
    "    'level1_diag1_3.0',\n",
    "    'level1_diag1_4.0',\n",
    "    'level1_diag1_5.0',\n",
    "    'level1_diag1_6.0',\n",
    "    'level1_diag1_7.0',\n",
    "    'level1_diag1_8.0',\n",
    "    ]"
   ]
  },
  {
   "cell_type": "code",
   "execution_count": 15,
   "metadata": {
    "colab": {
     "base_uri": "https://localhost:8080/",
     "height": 69
    },
    "colab_type": "code",
    "id": "gxrpl69MkeCj",
    "outputId": "6d5f9763-ec71-4b01-f18c-16fbb7920a27"
   },
   "outputs": [
    {
     "data": {
      "text/plain": [
       "0    54635\n",
       "1     5071\n",
       "Name: readmitted, dtype: int64"
      ]
     },
     "execution_count": 15,
     "metadata": {},
     "output_type": "execute_result"
    }
   ],
   "source": [
    "X = df1[feature_set_no_int]\n",
    "y = df1['readmitted']\n",
    "df1['readmitted'].value_counts()"
   ]
  },
  {
   "cell_type": "code",
   "execution_count": 16,
   "metadata": {},
   "outputs": [
    {
     "name": "stdout",
     "output_type": "stream",
     "text": [
      "Original dataset shape Counter({0: 54635, 1: 5071})\n",
      "New dataset shape Counter({0: 54635, 1: 54635})\n"
     ]
    }
   ],
   "source": [
    "print('Original dataset shape {}'.format(Counter(y)))\n",
    "smt = SMOTE(random_state=20)\n",
    "train_input_new, train_output_new = smt.fit_sample(X, y)\n",
    "print('New dataset shape {}'.format(Counter(train_output_new)))\n",
    "train_input_new = pd.DataFrame(train_input_new, columns = list(X.columns))\n",
    "X_train, X_test, y_train, y_test = train_test_split(train_input_new, train_output_new, test_size=0.20, random_state=0)"
   ]
  },
  {
   "cell_type": "code",
   "execution_count": 17,
   "metadata": {
    "colab": {},
    "colab_type": "code",
    "id": "b9It2Mb5r0jY"
   },
   "outputs": [],
   "source": [
    "# X_train, X_test, y_train, y_test = train_test_split(X, y, test_size=0.20, random_state=0)"
   ]
  },
  {
   "cell_type": "code",
   "execution_count": 18,
   "metadata": {
    "colab": {
     "base_uri": "https://localhost:8080/",
     "height": 121
    },
    "colab_type": "code",
    "id": "pPqj12cOIIex",
    "outputId": "a97f8719-d286-4cd7-ba0a-f2282d8745d5"
   },
   "outputs": [
    {
     "data": {
      "text/plain": [
       "DecisionTreeClassifier(class_weight=None, criterion='entropy', max_depth=28,\n",
       "                       max_features=None, max_leaf_nodes=None,\n",
       "                       min_impurity_decrease=0.0, min_impurity_split=None,\n",
       "                       min_samples_leaf=1, min_samples_split=10,\n",
       "                       min_weight_fraction_leaf=0.0, presort=False,\n",
       "                       random_state=None, splitter='best')"
      ]
     },
     "execution_count": 18,
     "metadata": {},
     "output_type": "execute_result"
    }
   ],
   "source": [
    "dtree = DecisionTreeClassifier(max_depth=28, criterion = \"entropy\", min_samples_split=10)\n",
    "dtree.fit(X_train, y_train)"
   ]
  },
  {
   "cell_type": "code",
   "execution_count": 19,
   "metadata": {
    "colab": {
     "base_uri": "https://localhost:8080/",
     "height": 171
    },
    "colab_type": "code",
    "id": "aVrk2wpPbWIe",
    "outputId": "b7aa704e-2014-4ecd-eed9-8f67a2994380"
   },
   "outputs": [
    {
     "data": {
      "text/html": [
       "<div>\n",
       "<style scoped>\n",
       "    .dataframe tbody tr th:only-of-type {\n",
       "        vertical-align: middle;\n",
       "    }\n",
       "\n",
       "    .dataframe tbody tr th {\n",
       "        vertical-align: top;\n",
       "    }\n",
       "\n",
       "    .dataframe thead th {\n",
       "        text-align: right;\n",
       "    }\n",
       "</style>\n",
       "<table border=\"1\" class=\"dataframe\">\n",
       "  <thead>\n",
       "    <tr style=\"text-align: right;\">\n",
       "      <th>Predict</th>\n",
       "      <th>0</th>\n",
       "      <th>1</th>\n",
       "      <th>All</th>\n",
       "    </tr>\n",
       "    <tr>\n",
       "      <th>Actual</th>\n",
       "      <th></th>\n",
       "      <th></th>\n",
       "      <th></th>\n",
       "    </tr>\n",
       "  </thead>\n",
       "  <tbody>\n",
       "    <tr>\n",
       "      <th>0</th>\n",
       "      <td>10257</td>\n",
       "      <td>679</td>\n",
       "      <td>10936</td>\n",
       "    </tr>\n",
       "    <tr>\n",
       "      <th>1</th>\n",
       "      <td>1132</td>\n",
       "      <td>9786</td>\n",
       "      <td>10918</td>\n",
       "    </tr>\n",
       "    <tr>\n",
       "      <th>All</th>\n",
       "      <td>11389</td>\n",
       "      <td>10465</td>\n",
       "      <td>21854</td>\n",
       "    </tr>\n",
       "  </tbody>\n",
       "</table>\n",
       "</div>"
      ],
      "text/plain": [
       "Predict      0      1    All\n",
       "Actual                      \n",
       "0        10257    679  10936\n",
       "1         1132   9786  10918\n",
       "All      11389  10465  21854"
      ]
     },
     "execution_count": 19,
     "metadata": {},
     "output_type": "execute_result"
    }
   ],
   "source": [
    "dtree_pred = dtree.predict(X_test)\n",
    "pd.crosstab(pd.Series(y_test, name = 'Actual'), pd.Series(dtree_pred, name = 'Predict'), margins = True)"
   ]
  },
  {
   "cell_type": "code",
   "execution_count": 20,
   "metadata": {
    "colab": {
     "base_uri": "https://localhost:8080/",
     "height": 69
    },
    "colab_type": "code",
    "id": "Udd67-YdbdK5",
    "outputId": "f03a9568-975d-42fe-f892-169aef688041"
   },
   "outputs": [
    {
     "name": "stdout",
     "output_type": "stream",
     "text": [
      "Accuracy is 0.92\n",
      "Precision is 0.94\n",
      "Recall is 0.90\n"
     ]
    }
   ],
   "source": [
    "print(\"Accuracy is {0:.2f}\".format(accuracy_score(y_test, dtree_pred)))\n",
    "print(\"Precision is {0:.2f}\".format(precision_score(y_test, dtree_pred)))\n",
    "print(\"Recall is {0:.2f}\".format(recall_score(y_test, dtree_pred)))\n",
    "\n",
    "accuracy_dtree = accuracy_score(y_test, dtree_pred)\n",
    "precision_dtree = precision_score(y_test, dtree_pred)\n",
    "recall_dtree = recall_score(y_test, dtree_pred)"
   ]
  },
  {
   "cell_type": "code",
   "execution_count": 21,
   "metadata": {
    "colab": {
     "base_uri": "https://localhost:8080/",
     "height": 595
    },
    "colab_type": "code",
    "id": "HUFkX4DPbeOp",
    "outputId": "8e7b7495-5a7e-4174-edf5-a18490a1e59c"
   },
   "outputs": [
    {
     "name": "stdout",
     "output_type": "stream",
     "text": [
      "                       Feature  Importance\n",
      "8                    metformin    0.022136\n",
      "26                    gender_1    0.023194\n",
      "19                     insulin    0.023252\n",
      "0                          age    0.026777\n",
      "40            level1_diag1_1.0    0.029663\n",
      "2               num_procedures    0.043883\n",
      "3              num_medications    0.048812\n",
      "7             number_diagnoses    0.077501\n",
      "29  discharge_disposition_id_2    0.106305\n",
      "1             time_in_hospital    0.413671\n"
     ]
    },
    {
     "data": {
      "image/png": "[encoded data removed]",
      "text/plain": [
       "<Figure size 720x432 with 1 Axes>"
      ]
     },
     "metadata": {
      "needs_background": "light"
     },
     "output_type": "display_data"
    }
   ],
   "source": [
    "# Create list of top most features based on importance\n",
    "feature_names = X_train.columns\n",
    "feature_imports = dtree.feature_importances_\n",
    "most_imp_features = pd.DataFrame([f for f in zip(feature_names,feature_imports)], columns=[\"Feature\", \"Importance\"]).nlargest(10, \"Importance\")\n",
    "most_imp_features.sort_values(by=\"Importance\", inplace=True)\n",
    "print(most_imp_features)\n",
    "plt.figure(figsize=(10,6))\n",
    "plt.barh(range(len(most_imp_features)), most_imp_features.Importance, align='center', alpha=0.8)\n",
    "plt.yticks(range(len(most_imp_features)), most_imp_features.Feature, fontsize=14)\n",
    "plt.xlabel('Importance')\n",
    "plt.title('Most important features - Decision Tree')\n",
    "plt.show()"
   ]
  },
  {
   "cell_type": "markdown",
   "metadata": {
    "colab_type": "text",
    "id": "y5V4WOD-sk3G"
   },
   "source": [
    "#Random Forest"
   ]
  },
  {
   "cell_type": "code",
   "execution_count": 22,
   "metadata": {
    "colab": {
     "base_uri": "https://localhost:8080/",
     "height": 52
    },
    "colab_type": "code",
    "id": "WA8Ymo5Wtkqi",
    "outputId": "60d55fcd-3fb8-43e0-be05-c7d926d5013f"
   },
   "outputs": [
    {
     "name": "stdout",
     "output_type": "stream",
     "text": [
      "Original dataset shape Counter({0: 54635, 1: 5071})\n",
      "New dataset shape Counter({0: 54635, 1: 54635})\n"
     ]
    }
   ],
   "source": [
    "X = df1[feature_set_no_int]\n",
    "y = df1['readmitted']\n",
    "\n",
    "print('Original dataset shape {}'.format(Counter(y)))\n",
    "smt = SMOTE(random_state=20)\n",
    "train_input_new, train_output_new = smt.fit_sample(X, y)\n",
    "print('New dataset shape {}'.format(Counter(train_output_new)))\n",
    "train_input_new = pd.DataFrame(train_input_new, columns = list(X.columns))\n",
    "X_train, X_test, y_train, y_test = train_test_split(train_input_new, train_output_new, test_size=0.20, random_state=0)"
   ]
  },
  {
   "cell_type": "code",
   "execution_count": 23,
   "metadata": {
    "colab": {
     "base_uri": "https://localhost:8080/",
     "height": 139
    },
    "colab_type": "code",
    "id": "hLIYVVPItpim",
    "outputId": "3c6fc1f0-6fb2-4c45-c552-15d030c02616"
   },
   "outputs": [
    {
     "data": {
      "text/plain": [
       "RandomForestClassifier(bootstrap=True, class_weight=None, criterion='gini',\n",
       "                       max_depth=25, max_features='auto', max_leaf_nodes=None,\n",
       "                       min_impurity_decrease=0.0, min_impurity_split=None,\n",
       "                       min_samples_leaf=1, min_samples_split=10,\n",
       "                       min_weight_fraction_leaf=0.0, n_estimators=10,\n",
       "                       n_jobs=None, oob_score=False, random_state=None,\n",
       "                       verbose=0, warm_start=False)"
      ]
     },
     "execution_count": 23,
     "metadata": {},
     "output_type": "execute_result"
    }
   ],
   "source": [
    "rm = RandomForestClassifier(n_estimators = 10, max_depth=25, criterion = \"gini\", min_samples_split=10)\n",
    "rm.fit(X_train, y_train)"
   ]
  },
  {
   "cell_type": "code",
   "execution_count": 24,
   "metadata": {
    "colab": {
     "base_uri": "https://localhost:8080/",
     "height": 171
    },
    "colab_type": "code",
    "id": "ODQA5S-Ztt8I",
    "outputId": "bc9a75a5-74a7-4dd1-f3c9-e4d9b92cb3fd"
   },
   "outputs": [
    {
     "data": {
      "text/html": [
       "<div>\n",
       "<style scoped>\n",
       "    .dataframe tbody tr th:only-of-type {\n",
       "        vertical-align: middle;\n",
       "    }\n",
       "\n",
       "    .dataframe tbody tr th {\n",
       "        vertical-align: top;\n",
       "    }\n",
       "\n",
       "    .dataframe thead th {\n",
       "        text-align: right;\n",
       "    }\n",
       "</style>\n",
       "<table border=\"1\" class=\"dataframe\">\n",
       "  <thead>\n",
       "    <tr style=\"text-align: right;\">\n",
       "      <th>Predict</th>\n",
       "      <th>0</th>\n",
       "      <th>1</th>\n",
       "      <th>All</th>\n",
       "    </tr>\n",
       "    <tr>\n",
       "      <th>Actual</th>\n",
       "      <th></th>\n",
       "      <th></th>\n",
       "      <th></th>\n",
       "    </tr>\n",
       "  </thead>\n",
       "  <tbody>\n",
       "    <tr>\n",
       "      <th>0</th>\n",
       "      <td>10788</td>\n",
       "      <td>148</td>\n",
       "      <td>10936</td>\n",
       "    </tr>\n",
       "    <tr>\n",
       "      <th>1</th>\n",
       "      <td>1130</td>\n",
       "      <td>9788</td>\n",
       "      <td>10918</td>\n",
       "    </tr>\n",
       "    <tr>\n",
       "      <th>All</th>\n",
       "      <td>11918</td>\n",
       "      <td>9936</td>\n",
       "      <td>21854</td>\n",
       "    </tr>\n",
       "  </tbody>\n",
       "</table>\n",
       "</div>"
      ],
      "text/plain": [
       "Predict      0     1    All\n",
       "Actual                     \n",
       "0        10788   148  10936\n",
       "1         1130  9788  10918\n",
       "All      11918  9936  21854"
      ]
     },
     "execution_count": 24,
     "metadata": {},
     "output_type": "execute_result"
    }
   ],
   "source": [
    "rm_prd = rm.predict(X_test)\n",
    "pd.crosstab(pd.Series(y_test, name = 'Actual'), pd.Series(rm_prd, name = 'Predict'), margins = True)"
   ]
  },
  {
   "cell_type": "code",
   "execution_count": 25,
   "metadata": {
    "colab": {
     "base_uri": "https://localhost:8080/",
     "height": 69
    },
    "colab_type": "code",
    "id": "ctNLTlthty2x",
    "outputId": "6ab00430-2a45-4ecf-a1c4-f56c505340ad"
   },
   "outputs": [
    {
     "name": "stdout",
     "output_type": "stream",
     "text": [
      "Accuracy is 0.94\n",
      "Precision is 0.99\n",
      "Recall is 0.90\n"
     ]
    }
   ],
   "source": [
    "print(\"Accuracy is {0:.2f}\".format(accuracy_score(y_test, rm_prd)))\n",
    "print(\"Precision is {0:.2f}\".format(precision_score(y_test, rm_prd)))\n",
    "print(\"Recall is {0:.2f}\".format(recall_score(y_test, rm_prd)))\n",
    "\n",
    "accuracy_rm = accuracy_score(y_test, rm_prd)\n",
    "precision_rm = precision_score(y_test, rm_prd)\n",
    "recall_rm = recall_score(y_test, rm_prd)"
   ]
  },
  {
   "cell_type": "code",
   "execution_count": 26,
   "metadata": {
    "colab": {
     "base_uri": "https://localhost:8080/",
     "height": 404
    },
    "colab_type": "code",
    "id": "MYGwaxkXt6cq",
    "outputId": "2c943414-1762-4fdc-aa28-8fb9ce529bd4",
    "scrolled": true
   },
   "outputs": [
    {
     "data": {
      "image/png": "[encoded data removed]",
      "text/plain": [
       "<Figure size 720x432 with 1 Axes>"
      ]
     },
     "metadata": {
      "needs_background": "light"
     },
     "output_type": "display_data"
    }
   ],
   "source": [
    "# Create list of top most features based on importance\n",
    "feature_names = X_train.columns\n",
    "feature_imports = rm.feature_importances_\n",
    "most_imp_features = pd.DataFrame([f for f in zip(feature_names,feature_imports)], columns=[\"Feature\", \"Importance\"]).nlargest(10, \"Importance\")\n",
    "most_imp_features.sort_values(by=\"Importance\", inplace=True)\n",
    "plt.figure(figsize=(10,6))\n",
    "plt.barh(range(len(most_imp_features)), most_imp_features.Importance, align='center', alpha=0.8)\n",
    "plt.yticks(range(len(most_imp_features)), most_imp_features.Feature, fontsize=14)\n",
    "plt.xlabel('Importance')\n",
    "plt.title('Most important features - Random Forest ')\n",
    "plt.show()"
   ]
  },
  {
   "cell_type": "markdown",
   "metadata": {
    "colab_type": "text",
    "id": "2fetG2YBt7yp"
   },
   "source": [
    "#SVM with RBF Kernel"
   ]
  },
  {
   "cell_type": "code",
   "execution_count": 27,
   "metadata": {
    "colab": {},
    "colab_type": "code",
    "id": "CU5QZYs7uN12"
   },
   "outputs": [],
   "source": [
    "feature_set = ['age', 'time_in_hospital', 'num_procedures', 'num_medications', 'number_outpatient_log1p', \n",
    "                 'number_emergency_log1p', 'number_inpatient_log1p', 'number_diagnoses', 'metformin', \n",
    "                 'repaglinide', 'nateglinide', 'chlorpropamide', 'glimepiride', 'glipizide', 'glyburide',\n",
    "                 'pioglitazone', 'rosiglitazone', 'acarbose', 'tolazamide', 'insulin', 'glyburide-metformin',\n",
    "                 'AfricanAmerican', 'Asian', 'Caucasian', 'Hispanic', 'Other', 'gender_1', \n",
    "                 'admission_type_id_3', 'admission_type_id_5', 'discharge_disposition_id_2', 'discharge_disposition_id_7', \n",
    "                 'discharge_disposition_id_10', 'discharge_disposition_id_18', 'admission_source_id_4',\n",
    "                 'admission_source_id_7', 'admission_source_id_9', 'max_glu_serum_0', 'max_glu_serum_1', 'A1Cresult_0',\n",
    "                 'A1Cresult_1', 'num_medications|time_in_hospital', 'num_medications|num_procedures',\n",
    "                 'time_in_hospital|num_lab_procedures', 'num_medications|num_lab_procedures', 'num_medications|number_diagnoses',\n",
    "                 'age|number_diagnoses', 'change|num_medications', 'number_diagnoses|time_in_hospital',\n",
    "                 'num_medications|numchange', 'level1_diag1_1.0', 'level1_diag1_2.0', 'level1_diag1_3.0', 'level1_diag1_4.0',\n",
    "                 'level1_diag1_5.0','level1_diag1_6.0', 'level1_diag1_7.0', 'level1_diag1_8.0']"
   ]
  },
  {
   "cell_type": "code",
   "execution_count": 28,
   "metadata": {
    "colab": {},
    "colab_type": "code",
    "id": "i-d_yHE9uA0J"
   },
   "outputs": [],
   "source": [
    "X = df1[feature_set]\n",
    "y = df1['readmitted']"
   ]
  },
  {
   "cell_type": "code",
   "execution_count": 29,
   "metadata": {
    "colab": {
     "base_uri": "https://localhost:8080/",
     "height": 52
    },
    "colab_type": "code",
    "id": "LH2dNr4HuSBj",
    "outputId": "05a01c5d-5b03-425c-aeac-641f79c55058"
   },
   "outputs": [],
   "source": [
    "# print('Original dataset shape {}'.format(Counter(y)))\n",
    "# sm = SMOTE(random_state=20)\n",
    "# train_input_new, train_output_new = sm.fit_sample(X, y)\n",
    "# print('New dataset shape {}'.format(Counter(train_output_new)))\n",
    "X_train, X_test, y_train, y_test = train_test_split(X, y, test_size=0.20, random_state=0)\n",
    "# train_input_new = pd.DataFrame(train_input_new, columns = list(X.columns))"
   ]
  },
  {
   "cell_type": "code",
   "execution_count": 30,
   "metadata": {
    "colab": {},
    "colab_type": "code",
    "id": "e8ZvuJdbueji"
   },
   "outputs": [],
   "source": [
    "# X_train, X_test, y_train, y_test = train_test_split(train_input_new, train_output_new, test_size=0.20, random_state=0)\n",
    "svclassifier = SVC(kernel='rbf')\n",
    "svclassifier2 = SVC(kernel='sigmoid')"
   ]
  },
  {
   "cell_type": "code",
   "execution_count": 31,
   "metadata": {
    "colab": {
     "base_uri": "https://localhost:8080/",
     "height": 245
    },
    "colab_type": "code",
    "id": "G1kThh7Ru1VE",
    "outputId": "ebf8206f-7be3-40ed-9d35-35c31d4f1256"
   },
   "outputs": [
    {
     "name": "stderr",
     "output_type": "stream",
     "text": [
      "/share/pkg.7/python3/3.7.3/install/lib/python3.7/site-packages/sklearn/svm/base.py:193: FutureWarning: The default value of gamma will change from 'auto' to 'scale' in version 0.22 to account better for unscaled features. Set gamma explicitly to 'auto' or 'scale' to avoid this warning.\n",
      "  \"avoid this warning.\", FutureWarning)\n",
      "/share/pkg.7/python3/3.7.3/install/lib/python3.7/site-packages/sklearn/svm/base.py:193: FutureWarning: The default value of gamma will change from 'auto' to 'scale' in version 0.22 to account better for unscaled features. Set gamma explicitly to 'auto' or 'scale' to avoid this warning.\n",
      "  \"avoid this warning.\", FutureWarning)\n"
     ]
    },
    {
     "data": {
      "text/plain": [
       "SVC(C=1.0, cache_size=200, class_weight=None, coef0=0.0,\n",
       "    decision_function_shape='ovr', degree=3, gamma='auto_deprecated',\n",
       "    kernel='sigmoid', max_iter=-1, probability=False, random_state=None,\n",
       "    shrinking=True, tol=0.001, verbose=False)"
      ]
     },
     "execution_count": 31,
     "metadata": {},
     "output_type": "execute_result"
    }
   ],
   "source": [
    "svclassifier.fit(X_train, y_train)\n",
    "svclassifier2.fit(X_train, y_train)"
   ]
  },
  {
   "cell_type": "code",
   "execution_count": 32,
   "metadata": {
    "colab": {},
    "colab_type": "code",
    "id": "-opIhbcRu51n"
   },
   "outputs": [],
   "source": [
    "svm_pred = svclassifier.predict(X_test)\n",
    "svm_pred2 = svclassifier2.predict(X_test)"
   ]
  },
  {
   "cell_type": "code",
   "execution_count": 33,
   "metadata": {
    "colab": {
     "base_uri": "https://localhost:8080/",
     "height": 171
    },
    "colab_type": "code",
    "id": "xc7JmiyMu8eA",
    "outputId": "0520573d-364f-4812-a1f0-9cc3b7d0fe20"
   },
   "outputs": [
    {
     "data": {
      "text/html": [
       "<div>\n",
       "<style scoped>\n",
       "    .dataframe tbody tr th:only-of-type {\n",
       "        vertical-align: middle;\n",
       "    }\n",
       "\n",
       "    .dataframe tbody tr th {\n",
       "        vertical-align: top;\n",
       "    }\n",
       "\n",
       "    .dataframe thead th {\n",
       "        text-align: right;\n",
       "    }\n",
       "</style>\n",
       "<table border=\"1\" class=\"dataframe\">\n",
       "  <thead>\n",
       "    <tr style=\"text-align: right;\">\n",
       "      <th>Predict</th>\n",
       "      <th>0</th>\n",
       "      <th>1</th>\n",
       "      <th>All</th>\n",
       "    </tr>\n",
       "    <tr>\n",
       "      <th>Actual</th>\n",
       "      <th></th>\n",
       "      <th></th>\n",
       "      <th></th>\n",
       "    </tr>\n",
       "  </thead>\n",
       "  <tbody>\n",
       "    <tr>\n",
       "      <th>0</th>\n",
       "      <td>2112</td>\n",
       "      <td>2</td>\n",
       "      <td>2114</td>\n",
       "    </tr>\n",
       "    <tr>\n",
       "      <th>1</th>\n",
       "      <td>247</td>\n",
       "      <td>0</td>\n",
       "      <td>247</td>\n",
       "    </tr>\n",
       "    <tr>\n",
       "      <th>All</th>\n",
       "      <td>2359</td>\n",
       "      <td>2</td>\n",
       "      <td>2361</td>\n",
       "    </tr>\n",
       "  </tbody>\n",
       "</table>\n",
       "</div>"
      ],
      "text/plain": [
       "Predict     0  1   All\n",
       "Actual                \n",
       "0        2112  2  2114\n",
       "1         247  0   247\n",
       "All      2359  2  2361"
      ]
     },
     "execution_count": 33,
     "metadata": {},
     "output_type": "execute_result"
    }
   ],
   "source": [
    "pd.crosstab(pd.Series(y_test, name = 'Actual'), pd.Series(svm_pred, name = 'Predict'), margins = True)"
   ]
  },
  {
   "cell_type": "code",
   "execution_count": 34,
   "metadata": {
    "colab": {
     "base_uri": "https://localhost:8080/",
     "height": 121
    },
    "colab_type": "code",
    "id": "YIhey-Xaw0T6",
    "outputId": "4fd6056f-9f78-4aea-c975-b806feea8b75"
   },
   "outputs": [
    {
     "name": "stdout",
     "output_type": "stream",
     "text": [
      "RBF accuracy is 0.91\n",
      "RBF precision is 0.20\n",
      "RBF recall is 0.00\n",
      "Sigmoid accuracy is 0.91\n",
      "Sigmoid precision is 0.20\n",
      "Sigmoid recall is 0.00\n"
     ]
    },
    {
     "name": "stderr",
     "output_type": "stream",
     "text": [
      "/share/pkg.7/python3/3.7.3/install/lib/python3.7/site-packages/sklearn/metrics/classification.py:1437: UndefinedMetricWarning: Precision is ill-defined and being set to 0.0 due to no predicted samples.\n",
      "  'precision', 'predicted', average, warn_for)\n"
     ]
    }
   ],
   "source": [
    "print(\"RBF accuracy is {0:.2f}\".format(accuracy_score(y_test, svm_pred)))\n",
    "print(\"RBF precision is {0:.2f}\".format(precision_score(y_test, svm_pred)))\n",
    "print(\"RBF recall is {0:.2f}\".format(recall_score(y_test, svm_pred)))\n",
    "print(\"Sigmoid accuracy is {0:.2f}\".format(accuracy_score(y_test, svm_pred)))\n",
    "print(\"Sigmoid precision is {0:.2f}\".format(precision_score(y_test, svm_pred)))\n",
    "print(\"Sigmoid recall is {0:.2f}\".format(recall_score(y_test, svm_pred)))\n",
    "\n",
    "accuracy_svm = accuracy_score(y_test, svm_pred)\n",
    "precision_svm = precision_score(y_test, svm_pred)\n",
    "recall_svm = recall_score(y_test, svm_pred)\n",
    "\n",
    "accuracy_svm2 = accuracy_score(y_test, svm_pred2)\n",
    "precision_svm2 = precision_score(y_test, svm_pred2)\n",
    "recall_svm2 = recall_score(y_test, svm_pred2)"
   ]
  },
  {
   "cell_type": "markdown",
   "metadata": {
    "colab_type": "text",
    "id": "kdfCD9o2x2BY"
   },
   "source": [
    "#Multilayer Perception"
   ]
  },
  {
   "cell_type": "code",
   "execution_count": 35,
   "metadata": {
    "colab": {},
    "colab_type": "code",
    "id": "c_7g_hIWyArM"
   },
   "outputs": [],
   "source": [
    "X = df1[feature_set]\n",
    "y = df1['readmitted']"
   ]
  },
  {
   "cell_type": "code",
   "execution_count": 36,
   "metadata": {
    "colab": {
     "base_uri": "https://localhost:8080/",
     "height": 52
    },
    "colab_type": "code",
    "id": "EgjlmfI2yala",
    "outputId": "63504356-f619-47d6-bb72-f80cd3f80919"
   },
   "outputs": [
    {
     "name": "stdout",
     "output_type": "stream",
     "text": [
      "Original dataset shape Counter({0: 43711, 1: 4053})\n",
      "New dataset shape Counter({0: 54635, 1: 54635})\n"
     ]
    }
   ],
   "source": [
    "#X_train, X_test, y_train, y_test = train_test_split(X, y, test_size=0.20, random_state=0)\n",
    "print('Original dataset shape {}'.format(Counter(y_train)))\n",
    "sm = SMOTE(random_state=20)\n",
    "train_input_new, train_output_new = sm.fit_sample(X, y)\n",
    "print('New dataset shape {}'.format(Counter(train_output_new)))\n",
    "X_train, X_test, y_train, y_test = train_test_split(train_input_new, train_output_new, test_size=0.20, random_state=0)"
   ]
  },
  {
   "cell_type": "code",
   "execution_count": 41,
   "metadata": {
    "colab": {},
    "colab_type": "code",
    "id": "XbQrSf-pzEZF"
   },
   "outputs": [],
   "source": [
    "clf = MLPClassifier(hidden_layer_sizes=(100,100,100), max_iter=1000, alpha=0.0001,\n",
    "                     solver='sgd', verbose=10,  random_state=21,tol=0.000000001)"
   ]
  },
  {
   "cell_type": "code",
   "execution_count": 42,
   "metadata": {
    "colab": {
     "base_uri": "https://localhost:8080/",
     "height": 1000
    },
    "colab_type": "code",
    "id": "kt921yhKzHmN",
    "outputId": "1b251b09-718f-4252-a546-9c2815972d8b"
   },
   "outputs": [
    {
     "name": "stdout",
     "output_type": "stream",
     "text": [
      "Iteration 1, loss = inf\n",
      "Iteration 2, loss = 0.68405872\n",
      "Iteration 3, loss = 0.68284806\n",
      "Iteration 4, loss = 0.68077083\n",
      "Iteration 5, loss = 0.67982864\n",
      "Iteration 6, loss = 0.67889114\n",
      "Iteration 7, loss = 0.67758425\n",
      "Iteration 8, loss = 0.67688062\n",
      "Iteration 9, loss = 0.67679185\n",
      "Iteration 10, loss = 0.67620281\n",
      "Iteration 11, loss = 0.67592682\n",
      "Iteration 12, loss = 0.67467737\n",
      "Iteration 13, loss = 0.67407662\n",
      "Iteration 14, loss = 0.67390198\n",
      "Iteration 15, loss = 0.67266991\n",
      "Iteration 16, loss = 0.67257599\n",
      "Iteration 17, loss = 0.67156688\n",
      "Iteration 18, loss = 0.67055515\n",
      "Iteration 19, loss = 0.66958145\n",
      "Iteration 20, loss = 0.66904536\n",
      "Iteration 21, loss = 0.66933833\n",
      "Iteration 22, loss = 0.66827477\n",
      "Iteration 23, loss = 0.66756962\n",
      "Iteration 24, loss = 0.66673642\n",
      "Iteration 25, loss = 0.66706706\n",
      "Iteration 26, loss = 0.66608807\n",
      "Iteration 27, loss = 0.66559241\n",
      "Iteration 28, loss = 0.66593760\n",
      "Iteration 29, loss = 0.66486522\n",
      "Iteration 30, loss = 0.66487088\n",
      "Iteration 31, loss = 0.66352452\n",
      "Iteration 32, loss = 0.66351798\n",
      "Iteration 33, loss = 0.66313730\n",
      "Iteration 34, loss = 0.66229321\n",
      "Iteration 35, loss = 0.66234086\n",
      "Iteration 36, loss = 0.66113499\n",
      "Iteration 37, loss = 0.66032107\n",
      "Iteration 38, loss = 0.66002230\n",
      "Iteration 39, loss = 0.66052978\n",
      "Iteration 40, loss = 0.65973986\n",
      "Iteration 41, loss = 0.65966949\n",
      "Iteration 42, loss = 0.65879004\n",
      "Iteration 43, loss = 0.65819427\n",
      "Iteration 44, loss = 0.65810911\n",
      "Iteration 45, loss = 0.65650017\n",
      "Iteration 46, loss = 0.65713747\n",
      "Iteration 47, loss = 0.65677127\n",
      "Iteration 48, loss = 0.65662738\n",
      "Iteration 49, loss = 0.65518721\n",
      "Iteration 50, loss = 0.65483520\n",
      "Iteration 51, loss = 0.65479733\n",
      "Iteration 52, loss = 0.65385687\n",
      "Iteration 53, loss = 0.65409699\n",
      "Iteration 54, loss = 0.65385462\n",
      "Iteration 55, loss = 0.65269404\n",
      "Iteration 56, loss = 0.65243080\n",
      "Iteration 57, loss = 0.65269448\n",
      "Iteration 58, loss = 0.65229299\n",
      "Iteration 59, loss = 0.65203386\n",
      "Iteration 60, loss = 0.65120755\n",
      "Iteration 61, loss = 0.65059144\n",
      "Iteration 62, loss = 0.64940914\n",
      "Iteration 63, loss = 0.64879131\n",
      "Iteration 64, loss = 0.64878636\n",
      "Iteration 65, loss = 0.64865429\n",
      "Iteration 66, loss = 0.64864374\n",
      "Iteration 67, loss = 0.64775644\n",
      "Iteration 68, loss = 0.64736221\n",
      "Iteration 69, loss = 0.64634179\n",
      "Iteration 70, loss = 0.64700292\n",
      "Iteration 71, loss = 0.64643543\n",
      "Iteration 72, loss = 0.64504644\n",
      "Iteration 73, loss = 0.64437094\n",
      "Iteration 74, loss = 0.64420867\n",
      "Iteration 75, loss = 0.64400175\n",
      "Iteration 76, loss = 0.64404031\n",
      "Iteration 77, loss = 0.64418031\n",
      "Iteration 78, loss = 0.64354735\n",
      "Iteration 79, loss = 0.64316536\n",
      "Iteration 80, loss = 0.64143879\n",
      "Iteration 81, loss = 0.64125896\n",
      "Iteration 82, loss = 0.64078744\n",
      "Iteration 83, loss = 0.64118674\n",
      "Iteration 84, loss = 0.64048763\n",
      "Iteration 85, loss = 0.63958013\n",
      "Iteration 86, loss = 0.63887314\n",
      "Iteration 87, loss = 0.63929610\n",
      "Iteration 88, loss = 0.63844884\n",
      "Iteration 89, loss = 0.63748574\n",
      "Iteration 90, loss = 0.63810557\n",
      "Iteration 91, loss = 0.63667375\n",
      "Iteration 92, loss = 0.63650650\n",
      "Iteration 93, loss = 0.63604291\n",
      "Iteration 94, loss = 0.63682820\n",
      "Iteration 95, loss = 0.63479945\n",
      "Iteration 96, loss = 0.63489619\n",
      "Iteration 97, loss = 0.63454233\n",
      "Iteration 98, loss = 0.63363236\n",
      "Iteration 99, loss = 0.63362090\n",
      "Iteration 100, loss = 0.63336905\n",
      "Iteration 101, loss = 0.63093561\n",
      "Iteration 102, loss = 0.63250975\n",
      "Iteration 103, loss = 0.63111425\n",
      "Iteration 104, loss = 0.63084803\n",
      "Iteration 105, loss = 0.62910646\n",
      "Iteration 106, loss = 0.62890833\n",
      "Iteration 107, loss = 0.62965350\n",
      "Iteration 108, loss = 0.62849820\n",
      "Iteration 109, loss = 0.62879104\n",
      "Iteration 110, loss = 0.62789987\n",
      "Iteration 111, loss = 0.62777712\n",
      "Iteration 112, loss = 0.62678857\n",
      "Iteration 113, loss = 0.62595688\n",
      "Iteration 114, loss = 0.62490426\n",
      "Iteration 115, loss = 0.62538379\n",
      "Iteration 116, loss = 0.62413439\n",
      "Iteration 117, loss = 0.62501141\n",
      "Iteration 118, loss = 0.62392360\n",
      "Iteration 119, loss = 0.62250721\n",
      "Iteration 120, loss = 0.62414900\n",
      "Iteration 121, loss = 0.62317745\n",
      "Iteration 122, loss = 0.62229021\n",
      "Iteration 123, loss = 0.62278498\n",
      "Iteration 124, loss = 0.62191591\n",
      "Iteration 125, loss = 0.62082476\n",
      "Iteration 126, loss = 0.61987432\n",
      "Iteration 127, loss = 0.61999981\n",
      "Iteration 128, loss = 0.61934820\n",
      "Iteration 129, loss = 0.61704820\n",
      "Iteration 130, loss = 0.61825596\n",
      "Iteration 131, loss = 0.61878246\n",
      "Iteration 132, loss = 0.61696371\n",
      "Iteration 133, loss = 0.61692880\n",
      "Iteration 134, loss = 0.61716502\n",
      "Iteration 135, loss = 0.61543860\n",
      "Iteration 136, loss = 0.61656150\n",
      "Iteration 137, loss = 0.61498372\n",
      "Iteration 138, loss = 0.61513459\n",
      "Iteration 139, loss = 0.61464996\n",
      "Iteration 140, loss = 0.61323232\n",
      "Iteration 141, loss = 0.61330824\n",
      "Iteration 142, loss = 0.61315630\n",
      "Iteration 143, loss = 0.61300733\n",
      "Iteration 144, loss = 0.61156864\n",
      "Iteration 145, loss = 0.61069953\n",
      "Iteration 146, loss = 0.61138529\n",
      "Iteration 147, loss = 0.61140385\n",
      "Iteration 148, loss = 0.60890197\n",
      "Iteration 149, loss = 0.61125393\n",
      "Iteration 150, loss = 0.60969912\n",
      "Iteration 151, loss = 0.60889338\n",
      "Iteration 152, loss = 0.60768529\n",
      "Iteration 153, loss = 0.60675186\n",
      "Iteration 154, loss = 0.60790834\n",
      "Iteration 155, loss = 0.60734085\n",
      "Iteration 156, loss = 0.60613469\n",
      "Iteration 157, loss = 0.60699526\n",
      "Iteration 158, loss = 0.60594070\n",
      "Iteration 159, loss = 0.60603388\n",
      "Iteration 160, loss = 0.60522431\n",
      "Iteration 161, loss = 0.60459506\n",
      "Iteration 162, loss = 0.60384787\n",
      "Iteration 163, loss = 0.60339505\n",
      "Iteration 164, loss = 0.60398025\n",
      "Iteration 165, loss = 0.60360725\n",
      "Iteration 166, loss = 0.60195269\n",
      "Iteration 167, loss = 0.60088782\n",
      "Iteration 168, loss = 0.60096440\n",
      "Iteration 169, loss = 0.60154291\n",
      "Iteration 170, loss = 0.60049101\n",
      "Iteration 171, loss = 0.60095150\n",
      "Iteration 172, loss = 0.60058174\n",
      "Iteration 173, loss = 0.59931298\n",
      "Iteration 174, loss = 0.59915770\n",
      "Iteration 175, loss = 0.59761173\n",
      "Iteration 176, loss = 0.59882719\n",
      "Iteration 177, loss = 0.59866213\n",
      "Iteration 178, loss = 0.59805914\n",
      "Iteration 179, loss = 0.59769639\n",
      "Iteration 180, loss = 0.59640275\n",
      "Iteration 181, loss = 0.59585360\n",
      "Iteration 182, loss = 0.59452569\n",
      "Iteration 183, loss = 0.59688596\n",
      "Iteration 184, loss = 0.59504236\n",
      "Iteration 185, loss = 0.59445069\n",
      "Iteration 186, loss = 0.59416434\n",
      "Iteration 187, loss = 0.59485191\n",
      "Iteration 188, loss = 0.59311920\n",
      "Iteration 189, loss = 0.59313503\n",
      "Iteration 190, loss = 0.59428242\n",
      "Iteration 191, loss = 0.59205600\n",
      "Iteration 192, loss = 0.59208133\n",
      "Iteration 193, loss = 0.59162384\n",
      "Iteration 194, loss = 0.59149546\n",
      "Iteration 195, loss = 0.59083196\n",
      "Iteration 196, loss = 0.59059401\n",
      "Iteration 197, loss = 0.59054204\n",
      "Iteration 198, loss = 0.59018024\n",
      "Iteration 199, loss = 0.58933706\n",
      "Iteration 200, loss = 0.58994365\n",
      "Iteration 201, loss = 0.58846932\n",
      "Iteration 202, loss = 0.58856678\n",
      "Iteration 203, loss = 0.58853217\n",
      "Iteration 204, loss = 0.58790929\n",
      "Iteration 205, loss = 0.58786662\n",
      "Iteration 206, loss = 0.58687267\n",
      "Iteration 207, loss = 0.58856527\n",
      "Iteration 208, loss = 0.58743865\n",
      "Iteration 209, loss = 0.58792338\n",
      "Iteration 210, loss = 0.58633727\n",
      "Iteration 211, loss = 0.58666902\n",
      "Iteration 212, loss = 0.58586826\n",
      "Iteration 213, loss = 0.58472562\n",
      "Iteration 214, loss = 0.58540174\n",
      "Iteration 215, loss = 0.58425060\n",
      "Iteration 216, loss = 0.58505761\n",
      "Iteration 217, loss = 0.58389198\n",
      "Iteration 218, loss = 0.58347078\n",
      "Iteration 219, loss = 0.58265432\n",
      "Iteration 220, loss = 0.58281713\n",
      "Iteration 221, loss = 0.58139584\n",
      "Iteration 222, loss = 0.58273657\n",
      "Iteration 223, loss = 0.58238132\n",
      "Iteration 224, loss = 0.58187155\n",
      "Iteration 225, loss = 0.58222815\n",
      "Iteration 226, loss = 0.58049179\n",
      "Iteration 227, loss = 0.57898912\n",
      "Iteration 228, loss = 0.57978354\n",
      "Iteration 229, loss = 0.58120502\n",
      "Iteration 230, loss = 0.57929141\n",
      "Iteration 231, loss = 0.57873021\n",
      "Iteration 232, loss = 0.57802006\n",
      "Iteration 233, loss = 0.57868936\n",
      "Iteration 234, loss = 0.57942813\n",
      "Iteration 235, loss = 0.57870304\n",
      "Iteration 236, loss = 0.57805433\n",
      "Iteration 237, loss = 0.57782918\n",
      "Iteration 238, loss = 0.57709796\n",
      "Iteration 239, loss = 0.57619825\n",
      "Iteration 240, loss = 0.57726508\n",
      "Iteration 241, loss = 0.57519400\n",
      "Iteration 242, loss = 0.57618846\n",
      "Iteration 243, loss = 0.57514433\n",
      "Iteration 244, loss = 0.57445837\n",
      "Iteration 245, loss = 0.57399378\n",
      "Iteration 246, loss = 0.57421296\n",
      "Iteration 247, loss = 0.57316946\n",
      "Iteration 248, loss = 0.57197849\n",
      "Iteration 249, loss = 0.57212747\n",
      "Iteration 250, loss = 0.57236694\n",
      "Iteration 251, loss = 0.57272577\n",
      "Iteration 252, loss = 0.57146614\n"
     ]
    },
    {
     "name": "stdout",
     "output_type": "stream",
     "text": [
      "Iteration 253, loss = 0.57060685\n",
      "Iteration 254, loss = 0.57076359\n",
      "Iteration 255, loss = 0.57126658\n",
      "Iteration 256, loss = 0.57202020\n",
      "Iteration 257, loss = 0.57062584\n",
      "Iteration 258, loss = 0.56916402\n",
      "Iteration 259, loss = 0.56919837\n",
      "Iteration 260, loss = 0.56956956\n",
      "Iteration 261, loss = 0.56836136\n",
      "Iteration 262, loss = 0.56875601\n",
      "Iteration 263, loss = 0.56785716\n",
      "Iteration 264, loss = 0.56718022\n",
      "Iteration 265, loss = 0.56718866\n",
      "Iteration 266, loss = 0.56687864\n",
      "Iteration 267, loss = 0.56836293\n",
      "Iteration 268, loss = 0.56536495\n",
      "Iteration 269, loss = 0.56585395\n",
      "Iteration 270, loss = 0.56551328\n",
      "Iteration 271, loss = 0.56656362\n",
      "Iteration 272, loss = 0.56438277\n",
      "Iteration 273, loss = 0.56416260\n",
      "Iteration 274, loss = 0.56388757\n",
      "Iteration 275, loss = 0.56582233\n",
      "Iteration 276, loss = 0.56236687\n",
      "Iteration 277, loss = 0.56463210\n",
      "Iteration 278, loss = 0.56375031\n",
      "Iteration 279, loss = 0.56178503\n",
      "Iteration 280, loss = 0.56267754\n",
      "Iteration 281, loss = 0.56287067\n",
      "Iteration 282, loss = 0.56132715\n",
      "Iteration 283, loss = 0.56260979\n",
      "Iteration 284, loss = 0.56178061\n",
      "Iteration 285, loss = 0.56153127\n",
      "Iteration 286, loss = 0.56176261\n",
      "Iteration 287, loss = 0.55904827\n",
      "Iteration 288, loss = 0.56166017\n",
      "Iteration 289, loss = 0.56130674\n",
      "Iteration 290, loss = 0.55949064\n",
      "Iteration 291, loss = 0.56015393\n",
      "Iteration 292, loss = 0.55913300\n",
      "Iteration 293, loss = 0.55941197\n",
      "Iteration 294, loss = 0.55936347\n",
      "Iteration 295, loss = 0.55834645\n",
      "Iteration 296, loss = 0.55657391\n",
      "Iteration 297, loss = 0.55883348\n",
      "Iteration 298, loss = 0.55854573\n",
      "Iteration 299, loss = 0.55717410\n",
      "Iteration 300, loss = 0.55544522\n",
      "Iteration 301, loss = 0.55597193\n",
      "Iteration 302, loss = 0.55648984\n",
      "Iteration 303, loss = 0.55573363\n",
      "Iteration 304, loss = 0.55578549\n",
      "Iteration 305, loss = 0.55654827\n",
      "Iteration 306, loss = 0.55477166\n",
      "Iteration 307, loss = 0.55440753\n",
      "Iteration 308, loss = 0.55482638\n",
      "Iteration 309, loss = 0.55460704\n",
      "Iteration 310, loss = 0.55414670\n",
      "Iteration 311, loss = 0.55302884\n",
      "Iteration 312, loss = 0.55337457\n",
      "Iteration 313, loss = 0.55319671\n",
      "Iteration 314, loss = 0.55246696\n",
      "Iteration 315, loss = 0.55267452\n",
      "Iteration 316, loss = 0.55152199\n",
      "Iteration 317, loss = 0.55157609\n",
      "Iteration 318, loss = 0.55150136\n",
      "Iteration 319, loss = 0.55065261\n",
      "Iteration 320, loss = 0.55134080\n",
      "Iteration 321, loss = 0.55303285\n",
      "Iteration 322, loss = 0.54969604\n",
      "Iteration 323, loss = 0.55078475\n",
      "Iteration 324, loss = 0.55072748\n",
      "Iteration 325, loss = 0.54928429\n",
      "Iteration 326, loss = 0.54907857\n",
      "Iteration 327, loss = 0.54896133\n",
      "Iteration 328, loss = 0.54871694\n",
      "Iteration 329, loss = 0.54623589\n",
      "Iteration 330, loss = 0.54771996\n",
      "Iteration 331, loss = 0.54736383\n",
      "Iteration 332, loss = 0.54692624\n",
      "Iteration 333, loss = 0.54824941\n",
      "Iteration 334, loss = 0.54674220\n",
      "Iteration 335, loss = 0.54672171\n",
      "Iteration 336, loss = 0.54626036\n",
      "Iteration 337, loss = 0.54564816\n",
      "Iteration 338, loss = 0.54600067\n",
      "Iteration 339, loss = 0.54643817\n",
      "Iteration 340, loss = 0.54614791\n",
      "Iteration 341, loss = 0.54503660\n",
      "Iteration 342, loss = 0.54413952\n",
      "Iteration 343, loss = 0.54480514\n",
      "Iteration 344, loss = 0.54495129\n",
      "Iteration 345, loss = 0.54282343\n",
      "Iteration 346, loss = 0.54432590\n",
      "Iteration 347, loss = 0.54264656\n",
      "Iteration 348, loss = 0.54345466\n",
      "Iteration 349, loss = 0.54292445\n",
      "Iteration 350, loss = 0.54213688\n",
      "Iteration 351, loss = 0.54120595\n",
      "Iteration 352, loss = 0.54226565\n",
      "Iteration 353, loss = 0.54038104\n",
      "Iteration 354, loss = 0.54033861\n",
      "Iteration 355, loss = 0.54238212\n",
      "Iteration 356, loss = 0.54046209\n",
      "Iteration 357, loss = 0.54056390\n",
      "Iteration 358, loss = 0.54026099\n",
      "Iteration 359, loss = 0.54113457\n",
      "Iteration 360, loss = 0.54000287\n",
      "Iteration 361, loss = 0.54161397\n",
      "Iteration 362, loss = 0.53718340\n",
      "Iteration 363, loss = 0.53969465\n",
      "Iteration 364, loss = 0.53839017\n",
      "Iteration 365, loss = 0.53633899\n",
      "Iteration 366, loss = 0.53810420\n",
      "Iteration 367, loss = 0.53729276\n",
      "Iteration 368, loss = 0.53736236\n",
      "Iteration 369, loss = 0.53580748\n",
      "Iteration 370, loss = 0.53711459\n",
      "Iteration 371, loss = 0.53669919\n",
      "Iteration 372, loss = 0.53490699\n",
      "Iteration 373, loss = 0.53556149\n",
      "Iteration 374, loss = 0.53584277\n",
      "Iteration 375, loss = 0.53602235\n",
      "Iteration 376, loss = 0.53584003\n",
      "Iteration 377, loss = 0.53526278\n",
      "Iteration 378, loss = 0.53381384\n",
      "Iteration 379, loss = 0.53256973\n",
      "Iteration 380, loss = 0.53495445\n",
      "Iteration 381, loss = 0.53324181\n",
      "Iteration 382, loss = 0.53442507\n",
      "Iteration 383, loss = 0.53386779\n",
      "Iteration 384, loss = 0.53286344\n",
      "Iteration 385, loss = 0.53223110\n",
      "Iteration 386, loss = 0.53319198\n",
      "Iteration 387, loss = 0.53147425\n",
      "Iteration 388, loss = 0.53332550\n",
      "Iteration 389, loss = 0.53183437\n",
      "Iteration 390, loss = 0.53135254\n",
      "Iteration 391, loss = 0.53126028\n",
      "Iteration 392, loss = 0.53070089\n",
      "Iteration 393, loss = 0.53088384\n",
      "Iteration 394, loss = 0.52924439\n",
      "Iteration 395, loss = 0.53074684\n",
      "Iteration 396, loss = 0.52889794\n",
      "Iteration 397, loss = 0.52941484\n",
      "Iteration 398, loss = 0.53063219\n",
      "Iteration 399, loss = 0.52977236\n",
      "Iteration 400, loss = 0.53006695\n",
      "Iteration 401, loss = 0.53045396\n",
      "Iteration 402, loss = 0.52990360\n",
      "Iteration 403, loss = 0.52807091\n",
      "Iteration 404, loss = 0.52820761\n",
      "Iteration 405, loss = 0.52687478\n",
      "Iteration 406, loss = 0.52934092\n",
      "Iteration 407, loss = 0.52858074\n",
      "Iteration 408, loss = 0.52732165\n",
      "Iteration 409, loss = 0.52793849\n",
      "Iteration 410, loss = 0.52624128\n",
      "Iteration 411, loss = 0.52444103\n",
      "Iteration 412, loss = 0.52756829\n",
      "Iteration 413, loss = 0.52602516\n",
      "Iteration 414, loss = 0.52571890\n",
      "Iteration 415, loss = 0.52371404\n",
      "Iteration 416, loss = 0.52528570\n",
      "Iteration 417, loss = 0.52427799\n",
      "Iteration 418, loss = 0.52420147\n",
      "Iteration 419, loss = 0.52411403\n",
      "Iteration 420, loss = 0.52482302\n",
      "Iteration 421, loss = 0.52311358\n",
      "Iteration 422, loss = 0.52240322\n",
      "Iteration 423, loss = 0.52336560\n",
      "Iteration 424, loss = 0.52369681\n",
      "Iteration 425, loss = 0.52369942\n",
      "Iteration 426, loss = 0.52255636\n",
      "Iteration 427, loss = 0.52225877\n",
      "Iteration 428, loss = 0.52180679\n",
      "Iteration 429, loss = 0.52268996\n",
      "Iteration 430, loss = 0.52195952\n",
      "Iteration 431, loss = 0.52151405\n",
      "Iteration 432, loss = 0.52106979\n",
      "Iteration 433, loss = 0.52080398\n",
      "Iteration 434, loss = 0.51963281\n",
      "Iteration 435, loss = 0.52092903\n",
      "Iteration 436, loss = 0.52213372\n",
      "Iteration 437, loss = 0.51793268\n",
      "Iteration 438, loss = 0.52169498\n",
      "Iteration 439, loss = 0.51730339\n",
      "Iteration 440, loss = 0.51878985\n",
      "Iteration 441, loss = 0.51974154\n",
      "Iteration 442, loss = 0.51978002\n",
      "Iteration 443, loss = 0.51839128\n",
      "Iteration 444, loss = 0.51907954\n",
      "Iteration 445, loss = 0.51572643\n",
      "Iteration 446, loss = 0.51826694\n",
      "Iteration 447, loss = 0.51910566\n",
      "Iteration 448, loss = 0.51680403\n",
      "Iteration 449, loss = 0.51982739\n",
      "Iteration 450, loss = 0.51793832\n",
      "Iteration 451, loss = 0.51498049\n",
      "Iteration 452, loss = 0.51681818\n",
      "Iteration 453, loss = 0.51771245\n",
      "Iteration 454, loss = 0.51592453\n",
      "Iteration 455, loss = 0.51589227\n",
      "Iteration 456, loss = 0.51699321\n",
      "Iteration 457, loss = 0.51739623\n",
      "Iteration 458, loss = 0.51507874\n",
      "Iteration 459, loss = 0.51523469\n",
      "Iteration 460, loss = 0.51547402\n",
      "Iteration 461, loss = 0.51579872\n",
      "Iteration 462, loss = 0.51456313\n",
      "Iteration 463, loss = 0.51391424\n",
      "Iteration 464, loss = 0.51464234\n",
      "Iteration 465, loss = 0.51385064\n",
      "Iteration 466, loss = 0.51401908\n",
      "Iteration 467, loss = 0.51261962\n",
      "Iteration 468, loss = 0.51250459\n",
      "Iteration 469, loss = 0.51195410\n",
      "Iteration 470, loss = 0.51349328\n",
      "Iteration 471, loss = 0.51121501\n",
      "Iteration 472, loss = 0.51155799\n",
      "Iteration 473, loss = 0.51227957\n",
      "Iteration 474, loss = 0.51228075\n",
      "Iteration 475, loss = 0.51218068\n",
      "Iteration 476, loss = 0.51066673\n",
      "Iteration 477, loss = 0.51065903\n",
      "Iteration 478, loss = 0.51126179\n",
      "Iteration 479, loss = 0.51180657\n",
      "Iteration 480, loss = 0.51028175\n",
      "Iteration 481, loss = 0.50784583\n",
      "Iteration 482, loss = 0.50953490\n",
      "Iteration 483, loss = 0.50912404\n",
      "Iteration 484, loss = 0.50976432\n",
      "Iteration 485, loss = 0.50857833\n",
      "Iteration 486, loss = 0.50882528\n",
      "Iteration 487, loss = 0.50797671\n",
      "Iteration 488, loss = 0.50863067\n",
      "Iteration 489, loss = 0.50926964\n",
      "Iteration 490, loss = 0.50859786\n",
      "Iteration 491, loss = 0.50726009\n",
      "Iteration 492, loss = 0.50837695\n",
      "Iteration 493, loss = 0.50769262\n",
      "Iteration 494, loss = 0.50687495\n",
      "Iteration 495, loss = 0.50726036\n",
      "Iteration 496, loss = 0.50587739\n",
      "Iteration 497, loss = 0.50591053\n",
      "Iteration 498, loss = 0.50671074\n",
      "Iteration 499, loss = 0.50897793\n",
      "Iteration 500, loss = 0.50604973\n",
      "Iteration 501, loss = 0.50435836\n"
     ]
    },
    {
     "name": "stdout",
     "output_type": "stream",
     "text": [
      "Iteration 502, loss = 0.50594593\n",
      "Iteration 503, loss = 0.50798288\n",
      "Iteration 504, loss = 0.50486398\n",
      "Iteration 505, loss = 0.50331709\n",
      "Iteration 506, loss = 0.50569193\n",
      "Iteration 507, loss = 0.50464109\n",
      "Iteration 508, loss = 0.50527205\n",
      "Iteration 509, loss = 0.50556806\n",
      "Iteration 510, loss = 0.50270793\n",
      "Iteration 511, loss = 0.50307628\n",
      "Iteration 512, loss = 0.50216321\n",
      "Iteration 513, loss = 0.50306326\n",
      "Iteration 514, loss = 0.50371875\n",
      "Iteration 515, loss = 0.50218391\n",
      "Iteration 516, loss = 0.50524891\n",
      "Iteration 517, loss = 0.50090066\n",
      "Iteration 518, loss = 0.50186457\n",
      "Iteration 519, loss = 0.50174864\n",
      "Iteration 520, loss = 0.50190080\n",
      "Iteration 521, loss = 0.50228021\n",
      "Iteration 522, loss = 0.50239258\n",
      "Iteration 523, loss = 0.50129816\n",
      "Iteration 524, loss = 0.50029640\n",
      "Iteration 525, loss = 0.49975347\n",
      "Iteration 526, loss = 0.49926682\n",
      "Iteration 527, loss = 0.50009639\n",
      "Iteration 528, loss = 0.49981061\n",
      "Iteration 529, loss = 0.50084435\n",
      "Iteration 530, loss = 0.50083577\n",
      "Iteration 531, loss = 0.49833835\n",
      "Iteration 532, loss = 0.49776186\n",
      "Iteration 533, loss = 0.49879385\n",
      "Iteration 534, loss = 0.49982161\n",
      "Iteration 535, loss = 0.49922111\n",
      "Iteration 536, loss = 0.49896491\n",
      "Iteration 537, loss = 0.49782970\n",
      "Iteration 538, loss = 0.49652026\n",
      "Iteration 539, loss = 0.49783543\n",
      "Iteration 540, loss = 0.50050522\n",
      "Iteration 541, loss = 0.49920659\n",
      "Iteration 542, loss = 0.49763402\n",
      "Iteration 543, loss = 0.49869218\n",
      "Iteration 544, loss = 0.49594885\n",
      "Iteration 545, loss = 0.49773737\n",
      "Iteration 546, loss = 0.49762696\n",
      "Iteration 547, loss = 0.49495750\n",
      "Iteration 548, loss = 0.49559878\n",
      "Iteration 549, loss = 0.49626658\n",
      "Iteration 550, loss = 0.49711585\n",
      "Iteration 551, loss = 0.49652184\n",
      "Iteration 552, loss = 0.49699654\n",
      "Iteration 553, loss = 0.49443589\n",
      "Iteration 554, loss = 0.49372962\n",
      "Iteration 555, loss = 0.49474957\n",
      "Iteration 556, loss = 0.49643292\n",
      "Iteration 557, loss = 0.49525853\n",
      "Iteration 558, loss = 0.49453990\n",
      "Iteration 559, loss = 0.49385684\n",
      "Iteration 560, loss = 0.49534464\n",
      "Iteration 561, loss = 0.49416516\n",
      "Iteration 562, loss = 0.49321555\n",
      "Iteration 563, loss = 0.49519205\n",
      "Iteration 564, loss = 0.49398010\n",
      "Iteration 565, loss = 0.49500575\n",
      "Iteration 566, loss = 0.49278441\n",
      "Iteration 567, loss = 0.49325646\n",
      "Iteration 568, loss = 0.49369822\n",
      "Iteration 569, loss = 0.49252928\n",
      "Iteration 570, loss = 0.49129326\n",
      "Iteration 571, loss = 0.49219932\n",
      "Iteration 572, loss = 0.49202442\n",
      "Iteration 573, loss = 0.49195775\n",
      "Iteration 574, loss = 0.49062962\n",
      "Iteration 575, loss = 0.49227587\n",
      "Iteration 576, loss = 0.49181834\n",
      "Iteration 577, loss = 0.49088502\n",
      "Iteration 578, loss = 0.49303382\n",
      "Iteration 579, loss = 0.48979857\n",
      "Iteration 580, loss = 0.49064192\n",
      "Iteration 581, loss = 0.49002125\n",
      "Iteration 582, loss = 0.49034691\n",
      "Iteration 583, loss = 0.48899767\n",
      "Iteration 584, loss = 0.49038093\n",
      "Iteration 585, loss = 0.49043158\n",
      "Iteration 586, loss = 0.49109019\n",
      "Iteration 587, loss = 0.49005065\n",
      "Iteration 588, loss = 0.48907962\n",
      "Iteration 589, loss = 0.49044115\n",
      "Iteration 590, loss = 0.48849843\n",
      "Iteration 591, loss = 0.48993286\n",
      "Iteration 592, loss = 0.48700832\n",
      "Iteration 593, loss = 0.48918304\n",
      "Iteration 594, loss = 0.48897284\n",
      "Iteration 595, loss = 0.48873973\n",
      "Iteration 596, loss = 0.48706108\n",
      "Iteration 597, loss = 0.48962108\n",
      "Iteration 598, loss = 0.48828910\n",
      "Iteration 599, loss = 0.48607023\n",
      "Iteration 600, loss = 0.48668094\n",
      "Iteration 601, loss = 0.48900321\n",
      "Iteration 602, loss = 0.48580811\n",
      "Iteration 603, loss = 0.48614112\n",
      "Iteration 604, loss = 0.48473059\n",
      "Iteration 605, loss = 0.48540912\n",
      "Iteration 606, loss = 0.48656068\n",
      "Iteration 607, loss = 0.48517738\n",
      "Iteration 608, loss = 0.48503224\n",
      "Iteration 609, loss = 0.48446762\n",
      "Iteration 610, loss = 0.48762527\n",
      "Iteration 611, loss = 0.48522957\n",
      "Iteration 612, loss = 0.48477216\n",
      "Iteration 613, loss = 0.48364106\n",
      "Iteration 614, loss = 0.48545010\n",
      "Iteration 615, loss = 0.48520952\n",
      "Iteration 616, loss = 0.48586415\n",
      "Iteration 617, loss = 0.48492566\n",
      "Iteration 618, loss = 0.48421359\n",
      "Iteration 619, loss = 0.48293744\n",
      "Iteration 620, loss = 0.48474332\n",
      "Iteration 621, loss = 0.48437141\n",
      "Iteration 622, loss = 0.48394652\n",
      "Iteration 623, loss = 0.48276164\n",
      "Iteration 624, loss = 0.48235950\n",
      "Iteration 625, loss = 0.48282447\n",
      "Iteration 626, loss = 0.48399648\n",
      "Iteration 627, loss = 0.48224123\n",
      "Iteration 628, loss = 0.48244474\n",
      "Iteration 629, loss = 0.48236856\n",
      "Iteration 630, loss = 0.48175753\n",
      "Iteration 631, loss = 0.48192661\n",
      "Iteration 632, loss = 0.48111793\n",
      "Iteration 633, loss = 0.48309453\n",
      "Iteration 634, loss = 0.48204052\n",
      "Iteration 635, loss = 0.48233958\n",
      "Iteration 636, loss = 0.48227300\n",
      "Iteration 637, loss = 0.47924006\n",
      "Iteration 638, loss = 0.48076668\n",
      "Iteration 639, loss = 0.48312211\n",
      "Iteration 640, loss = 0.47819011\n",
      "Iteration 641, loss = 0.48000743\n",
      "Iteration 642, loss = 0.48000348\n",
      "Iteration 643, loss = 0.48076002\n",
      "Iteration 644, loss = 0.47877109\n",
      "Iteration 645, loss = 0.47965897\n",
      "Iteration 646, loss = 0.48075218\n",
      "Iteration 647, loss = 0.47923003\n",
      "Iteration 648, loss = 0.48025540\n",
      "Iteration 649, loss = 0.47826272\n",
      "Iteration 650, loss = 0.47763773\n",
      "Iteration 651, loss = 0.47801275\n",
      "Iteration 652, loss = 0.47980000\n",
      "Iteration 653, loss = 0.47860004\n",
      "Iteration 654, loss = 0.47867035\n",
      "Iteration 655, loss = 0.47703124\n",
      "Iteration 656, loss = 0.47625639\n",
      "Iteration 657, loss = 0.47724346\n",
      "Iteration 658, loss = 0.47768507\n",
      "Iteration 659, loss = 0.47648492\n",
      "Iteration 660, loss = 0.47783807\n",
      "Iteration 661, loss = 0.47709008\n",
      "Iteration 662, loss = 0.47846612\n",
      "Iteration 663, loss = 0.47927312\n",
      "Iteration 664, loss = 0.47715015\n",
      "Iteration 665, loss = 0.47664807\n",
      "Iteration 666, loss = 0.47870959\n",
      "Iteration 667, loss = 0.47639927\n",
      "Training loss did not improve more than tol=0.000000 for 10 consecutive epochs. Stopping.\n"
     ]
    }
   ],
   "source": [
    "clf.fit(train_input_new, train_output_new)\n",
    "y_pred = clf.predict(X_test)"
   ]
  },
  {
   "cell_type": "code",
   "execution_count": 43,
   "metadata": {
    "colab": {
     "base_uri": "https://localhost:8080/",
     "height": 69
    },
    "colab_type": "code",
    "id": "ry4joAdFzMhn",
    "outputId": "c7c8ac00-4d1c-411a-ca1a-ce993b02b2a8"
   },
   "outputs": [
    {
     "name": "stdout",
     "output_type": "stream",
     "text": [
      "0.7392696989109545\n",
      "0.7194752774974773\n",
      "0.783660010991024\n"
     ]
    }
   ],
   "source": [
    "print(accuracy_score(y_test, y_pred))\n",
    "print(precision_score(y_test, y_pred))\n",
    "print(recall_score(y_test, y_pred))\n",
    "\n",
    "accuracy_mlp = accuracy_score(y_test, y_pred)\n",
    "precision_mlp = precision_score(y_test, y_pred)\n",
    "recall_mlp = recall_score(y_test, y_pred)"
   ]
  },
  {
   "cell_type": "markdown",
   "metadata": {
    "colab_type": "text",
    "id": "RkHrdTYtz6A_"
   },
   "source": [
    "#Model Comparison"
   ]
  },
  {
   "cell_type": "code",
   "execution_count": 44,
   "metadata": {
    "colab": {},
    "colab_type": "code",
    "id": "tDgk5o2J0FMb"
   },
   "outputs": [
    {
     "name": "stderr",
     "output_type": "stream",
     "text": [
      "/share/pkg.7/python3/3.7.3/install/lib/python3.7/site-packages/ipykernel_launcher.py:13: MatplotlibDeprecationWarning: Adding an axes using the same arguments as a previous axes currently reuses the earlier instance.  In a future version, a new instance will always be created and returned.  Meanwhile, this warning can be suppressed, and the future behavior ensured, by passing a unique label to each axes instance.\n",
      "  del sys.path[0]\n",
      "/share/pkg.7/python3/3.7.3/install/lib/python3.7/site-packages/ipykernel_launcher.py:24: MatplotlibDeprecationWarning: Adding an axes using the same arguments as a previous axes currently reuses the earlier instance.  In a future version, a new instance will always be created and returned.  Meanwhile, this warning can be suppressed, and the future behavior ensured, by passing a unique label to each axes instance.\n"
     ]
    },
    {
     "data": {
      "image/png": "[encoded data removed]",
      "text/plain": [
       "<Figure size 1008x504 with 1 Axes>"
      ]
     },
     "metadata": {
      "needs_background": "light"
     },
     "output_type": "display_data"
    }
   ],
   "source": [
    "plt.figure(figsize=(14, 7))\n",
    "ax = plt.subplot(111)\n",
    "\n",
    "models = ['Logistic Regression', 'Decision Tree', 'Random Forest', 'Linear Regression', 'SVM RBF', 'SVM Sigmoid', 'MLP']\n",
    "values = [accuracy_logit, accuracy_dtree, accuracy_rm, accuracy_linit, accuracy_svm, accuracy_svm2, accuracy_mlp]\n",
    "model = np.arange(len(models))\n",
    "\n",
    "plt.bar(model, values, align='center', width = 0.15, alpha=0.7, color = 'red', label= 'accuracy')\n",
    "plt.xticks(model, models)\n",
    "           \n",
    "\n",
    "           \n",
    "ax = plt.subplot(111)\n",
    "\n",
    "models = ['Logistic Regression', 'Decision Tree', 'Random Forest', 'Linear Regression', 'SVM RBF', 'SVM Sigmoid', 'MLP']\n",
    "values = [precision_logit, precision_dtree, precision_rm, precision_linit, precision_svm, precision_svm2, precision_mlp]\n",
    "model = np.arange(len(models))\n",
    "\n",
    "plt.bar(model+0.15, values, align='center', width = 0.15, alpha=0.7, color = 'blue', label = 'precision')\n",
    "plt.xticks(model, models)\n",
    "\n",
    "\n",
    "\n",
    "ax = plt.subplot(111)\n",
    "\n",
    "models = ['Logistic Regression', 'Decision Tree', 'Random Forest', 'Linear Regression' , 'SVM RBF', 'SVM Sigmoid', 'MLP']\n",
    "values = [recall_logit, recall_dtree, recall_rm, recall_linit, recall_svm, recall_svm2, recall_mlp]\n",
    "model = np.arange(len(models))\n",
    "\n",
    "plt.bar(model+0.3, values, align='center', width = 0.15, alpha=0.7, color = 'green', label = 'recall')\n",
    "plt.xticks(model, models)\n",
    "\n",
    "\n",
    "\n",
    "plt.ylabel('Performance Metrics for Different models')\n",
    "plt.title('Model')\n",
    "    \n",
    "# removing the axis on the top and right of the plot window\n",
    "ax.spines['right'].set_visible(False)\n",
    "ax.spines['top'].set_visible(False)\n",
    "ax.legend()\n",
    "\n",
    "plt.show()"
   ]
  }
 ],
 "metadata": {
  "accelerator": "GPU",
  "colab": {
   "collapsed_sections": [],
   "name": "CodeFinal.ipynb",
   "provenance": [],
   "toc_visible": true,
   "version": "0.3.2"
  },
  "kernelspec": {
   "display_name": "Python 3",
   "language": "python",
   "name": "python3"
  },
  "language_info": {
   "codemirror_mode": {
    "name": "ipython",
    "version": 3
   },
   "file_extension": ".py",
   "mimetype": "text/x-python",
   "name": "python",
   "nbconvert_exporter": "python",
   "pygments_lexer": "ipython3",
   "version": "3.6.4"
  }
 },
 "nbformat": 4,
 "nbformat_minor": 1
}
