{
  "nbformat": 4,
  "nbformat_minor": 0,
  "metadata": {
    "colab": {
      "name": "PreprocessingFinal.ipynb",
      "version": "0.3.2",
      "provenance": [],
      "collapsed_sections": []
    },
    "kernelspec": {
      "name": "python3",
      "display_name": "Python 3"
    }
  },
  "cells": [
    {
      "cell_type": "code",
      "metadata": {
        "id": "1Jo3WY50EvkI",
        "colab_type": "code",
        "colab": {}
      },
      "source": [
        "#Loading libraries \n",
        "import pandas as pd\n",
        "import numpy as np\n",
        "import matplotlib.pyplot as plt\n",
        "import seaborn as sns"
      ],
      "execution_count": 0,
      "outputs": []
    },
    {
      "cell_type": "code",
      "metadata": {
        "id": "zx5nuBjKZ3qt",
        "colab_type": "code",
        "colab": {}
      },
      "source": [
        "#loading Dataset\n",
        "df = pd.read_csv(\"diabetic_data.csv\")"
      ],
      "execution_count": 0,
      "outputs": []
    },
    {
      "cell_type": "code",
      "metadata": {
        "id": "yA0kQ4uFZm5A",
        "colab_type": "code",
        "colab": {}
      },
      "source": [
        "#Checking for missing values in dataset\n",
        "#In the dataset missing values are represented as '?' sign\n",
        "for col in df.columns:\n",
        "    if df[col].dtype == object:\n",
        "         print(col,df[col][df[col] == '?'].count())"
      ],
      "execution_count": 0,
      "outputs": []
    },
    {
      "cell_type": "code",
      "metadata": {
        "id": "HxNAvOekE2FD",
        "colab_type": "code",
        "colab": {}
      },
      "source": [
        "# gender was coded differently so we use a custom count for this one            \n",
        "print('gender', df['gender'][df['gender'] == 'Unknown/Invalid'].count())            "
      ],
      "execution_count": 0,
      "outputs": []
    },
    {
      "cell_type": "code",
      "metadata": {
        "id": "alYryEmKE4Ux",
        "colab_type": "code",
        "colab": {}
      },
      "source": [
        "#dropping columns with large number of missing values\n",
        "df = df.drop(['weight','payer_code','medical_specialty'], axis = 1)"
      ],
      "execution_count": 0,
      "outputs": []
    },
    {
      "cell_type": "code",
      "metadata": {
        "id": "sgNyfakYE6VK",
        "colab_type": "code",
        "colab": {}
      },
      "source": [
        "drop_Idx = set(df[(df['diag_1'] == '?') & (df['diag_2'] == '?') & (df['diag_3'] == '?')].index)\n",
        "\n",
        "drop_Idx = drop_Idx.union(set(df['diag_1'][df['diag_1'] == '?'].index))\n",
        "drop_Idx = drop_Idx.union(set(df['diag_2'][df['diag_2'] == '?'].index))\n",
        "drop_Idx = drop_Idx.union(set(df['diag_3'][df['diag_3'] == '?'].index))\n",
        "drop_Idx = drop_Idx.union(set(df['race'][df['race'] == '?'].index))\n",
        "drop_Idx = drop_Idx.union(set(df[df['discharge_disposition_id'] == 11].index))\n",
        "drop_Idx = drop_Idx.union(set(df['gender'][df['gender'] == 'Unknown/Invalid'].index))\n",
        "new_Idx = list(set(df.index) - set(drop_Idx))\n",
        "df = df.iloc[new_Idx]"
      ],
      "execution_count": 0,
      "outputs": []
    },
    {
      "cell_type": "code",
      "metadata": {
        "id": "16qiBL0rFABg",
        "colab_type": "code",
        "colab": {}
      },
      "source": [
        "#These columns are uniform\n",
        "df = df.drop(['citoglipton', 'examide'], axis = 1)"
      ],
      "execution_count": 0,
      "outputs": []
    },
    {
      "cell_type": "code",
      "metadata": {
        "id": "ZN6eB5_bFSa2",
        "colab_type": "code",
        "colab": {}
      },
      "source": [
        "df['service_utilization'] = df['number_outpatient'] + df['number_emergency'] + df['number_inpatient']"
      ],
      "execution_count": 0,
      "outputs": []
    },
    {
      "cell_type": "code",
      "metadata": {
        "id": "OE3oMfAqFe8H",
        "colab_type": "code",
        "colab": {}
      },
      "source": [
        "#Get a column showing the number of changes in medication for each patient\n",
        "keys = ['metformin', 'repaglinide', 'nateglinide', 'chlorpropamide', 'glimepiride', 'glipizide', 'glyburide', 'pioglitazone', 'rosiglitazone', 'acarbose', 'miglitol', 'insulin', 'glyburide-metformin', 'tolazamide', 'metformin-pioglitazone','metformin-rosiglitazone', 'glimepiride-pioglitazone', 'glipizide-metformin', 'troglitazone', 'tolbutamide', 'acetohexamide']\n",
        "for col in keys:\n",
        "    colname = str(col) + 'temp'\n",
        "    df[colname] = df[col].apply(lambda x: 0 if (x == 'No' or x == 'Steady') else 1)\n",
        "df['numchange'] = 0\n",
        "for col in keys:\n",
        "    colname = str(col) + 'temp'\n",
        "    df['numchange'] = df['numchange'] + df[colname]\n",
        "    del df[colname]\n",
        "    \n",
        "df['numchange'].value_counts()  "
      ],
      "execution_count": 0,
      "outputs": []
    },
    {
      "cell_type": "code",
      "metadata": {
        "id": "PecmblJiFpQ3",
        "colab_type": "code",
        "colab": {}
      },
      "source": [
        "\n",
        "# re-encoding admission type, discharge type and admission source into fewer categories\n",
        "\n",
        "df['admission_type_id'] = df['admission_type_id'].replace(2,1)\n",
        "df['admission_type_id'] = df['admission_type_id'].replace(7,1)\n",
        "df['admission_type_id'] = df['admission_type_id'].replace(6,5)\n",
        "df['admission_type_id'] = df['admission_type_id'].replace(8,5)\n",
        "\n",
        "df['discharge_disposition_id'] = df['discharge_disposition_id'].replace(6,1)\n",
        "df['discharge_disposition_id'] = df['discharge_disposition_id'].replace(8,1)\n",
        "df['discharge_disposition_id'] = df['discharge_disposition_id'].replace(9,1)\n",
        "df['discharge_disposition_id'] = df['discharge_disposition_id'].replace(13,1)\n",
        "df['discharge_disposition_id'] = df['discharge_disposition_id'].replace(3,2)\n",
        "df['discharge_disposition_id'] = df['discharge_disposition_id'].replace(4,2)\n",
        "df['discharge_disposition_id'] = df['discharge_disposition_id'].replace(5,2)\n",
        "df['discharge_disposition_id'] = df['discharge_disposition_id'].replace(14,2)\n",
        "df['discharge_disposition_id'] = df['discharge_disposition_id'].replace(22,2)\n",
        "df['discharge_disposition_id'] = df['discharge_disposition_id'].replace(23,2)\n",
        "df['discharge_disposition_id'] = df['discharge_disposition_id'].replace(24,2)\n",
        "df['discharge_disposition_id'] = df['discharge_disposition_id'].replace(12,10)\n",
        "df['discharge_disposition_id'] = df['discharge_disposition_id'].replace(15,10)\n",
        "df['discharge_disposition_id'] = df['discharge_disposition_id'].replace(16,10)\n",
        "df['discharge_disposition_id'] = df['discharge_disposition_id'].replace(17,10)\n",
        "df['discharge_disposition_id'] = df['discharge_disposition_id'].replace(25,18)\n",
        "df['discharge_disposition_id'] = df['discharge_disposition_id'].replace(26,18)\n",
        "\n",
        "df['admission_source_id'] = df['admission_source_id'].replace(2,1)\n",
        "df['admission_source_id'] = df['admission_source_id'].replace(3,1)\n",
        "df['admission_source_id'] = df['admission_source_id'].replace(5,4)\n",
        "df['admission_source_id'] = df['admission_source_id'].replace(6,4)\n",
        "df['admission_source_id'] = df['admission_source_id'].replace(10,4)\n",
        "df['admission_source_id'] = df['admission_source_id'].replace(22,4)\n",
        "df['admission_source_id'] = df['admission_source_id'].replace(25,4)\n",
        "df['admission_source_id'] = df['admission_source_id'].replace(15,9)\n",
        "df['admission_source_id'] = df['admission_source_id'].replace(17,9)\n",
        "df['admission_source_id'] = df['admission_source_id'].replace(20,9)\n",
        "df['admission_source_id'] = df['admission_source_id'].replace(21,9)\n",
        "df['admission_source_id'] = df['admission_source_id'].replace(13,11)\n",
        "df['admission_source_id'] = df['admission_source_id'].replace(14,11)"
      ],
      "execution_count": 0,
      "outputs": []
    },
    {
      "cell_type": "code",
      "metadata": {
        "id": "LC6b45_nLC3q",
        "colab_type": "code",
        "colab": {}
      },
      "source": [
        "df['change'] = df['change'].replace('Ch', 1)\n",
        "df['change'] = df['change'].replace('No', 0)\n",
        "df['gender'] = df['gender'].replace('Male', 1)\n",
        "df['gender'] = df['gender'].replace('Female', 0)\n",
        "df['diabetesMed'] = df['diabetesMed'].replace('Yes', 1)\n",
        "df['diabetesMed'] = df['diabetesMed'].replace('No', 0)\n",
        "# keys is the same as before\n",
        "for col in keys:\n",
        "    df[col] = df[col].replace('No', 0)\n",
        "    df[col] = df[col].replace('Steady', 1)\n",
        "    df[col] = df[col].replace('Up', 1)\n",
        "    df[col] = df[col].replace('Down', 1)"
      ],
      "execution_count": 0,
      "outputs": []
    },
    {
      "cell_type": "code",
      "metadata": {
        "id": "sagvXNIMLe0z",
        "colab_type": "code",
        "colab": {}
      },
      "source": [
        "# code age intervals [0-10) - [90-100) from 1-10\n",
        "for i in range(0,10):\n",
        "    df['age'] = df['age'].replace('['+str(10*i)+'-'+str(10*(i+1))+')', i+1)\n",
        "df['age'].value_counts()"
      ],
      "execution_count": 0,
      "outputs": []
    },
    {
      "cell_type": "code",
      "metadata": {
        "id": "rJg19RyOLiSB",
        "colab_type": "code",
        "colab": {}
      },
      "source": [
        "df2 = df.drop_duplicates(subset= ['patient_nbr'], keep = 'first')"
      ],
      "execution_count": 0,
      "outputs": []
    },
    {
      "cell_type": "code",
      "metadata": {
        "id": "mJqUXgcvh-1N",
        "colab_type": "code",
        "colab": {}
      },
      "source": [
        "df['readmitted'] = df['readmitted'].replace('>30', 0)\n",
        "df['readmitted'] = df['readmitted'].replace('<30', 1)\n",
        "df['readmitted'] = df['readmitted'].replace('NO', 0)"
      ],
      "execution_count": 0,
      "outputs": []
    },
    {
      "cell_type": "code",
      "metadata": {
        "id": "cbc_mgW3MhJS",
        "colab_type": "code",
        "colab": {}
      },
      "source": [
        "# Creating additional columns for diagnosis\n",
        "#These diag\n",
        "df['level1_diag1'] = df['diag_1']\n",
        "df['level2_diag1'] = df['diag_1']\n",
        "df['level1_diag2'] = df['diag_2']\n",
        "df['level2_diag2'] = df['diag_2']\n",
        "df['level1_diag3'] = df['diag_3']\n",
        "df['level2_diag3'] = df['diag_3']"
      ],
      "execution_count": 0,
      "outputs": []
    },
    {
      "cell_type": "code",
      "metadata": {
        "id": "tGm_3qkqMjk_",
        "colab_type": "code",
        "colab": {}
      },
      "source": [
        "df.loc[df['diag_1'].str.contains('V'), ['level1_diag1', 'level2_diag1']] = 0\n",
        "df.loc[df['diag_1'].str.contains('E'), ['level1_diag1', 'level2_diag1']] = 0\n",
        "df.loc[df['diag_2'].str.contains('V'), ['level1_diag2', 'level2_diag2']] = 0\n",
        "df.loc[df['diag_2'].str.contains('E'), ['level1_diag2', 'level2_diag2']] = 0\n",
        "df.loc[df['diag_3'].str.contains('V'), ['level1_diag3', 'level2_diag3']] = 0\n",
        "df.loc[df['diag_3'].str.contains('E'), ['level1_diag3', 'level2_diag3']] = 0\n",
        "df['level1_diag1'] = df['level1_diag1'].replace('?', -1)\n",
        "df['level2_diag1'] = df['level2_diag1'].replace('?', -1)\n",
        "df['level1_diag2'] = df['level1_diag2'].replace('?', -1)\n",
        "df['level2_diag2'] = df['level2_diag2'].replace('?', -1)\n",
        "df['level1_diag3'] = df['level1_diag3'].replace('?', -1)\n",
        "df['level2_diag3'] = df['level2_diag3'].replace('?', -1)"
      ],
      "execution_count": 0,
      "outputs": []
    },
    {
      "cell_type": "code",
      "metadata": {
        "id": "9iJqtHwbMprs",
        "colab_type": "code",
        "colab": {}
      },
      "source": [
        "df['level1_diag1'] = df['level1_diag1'].astype(float)\n",
        "df['level2_diag1'] = df['level2_diag1'].astype(float)\n",
        "df['level1_diag2'] = df['level1_diag2'].astype(float)\n",
        "df['level2_diag2'] = df['level2_diag2'].astype(float)\n",
        "df['level1_diag3'] = df['level1_diag3'].astype(float)\n",
        "df['level2_diag3'] = df['level2_diag3'].astype(float)"
      ],
      "execution_count": 0,
      "outputs": []
    },
    {
      "cell_type": "code",
      "metadata": {
        "id": "lUujJJY8MrJd",
        "colab_type": "code",
        "colab": {}
      },
      "source": [
        "# These long elifs are also not run when creating our filtered_final2.csv which is used for linear and logistic regression\n",
        "for index, row in df.iterrows():\n",
        "    if (row['level1_diag1'] >= 390 and row['level1_diag1'] < 460) or (np.floor(row['level1_diag1']) == 785):\n",
        "        df.loc[index, 'level1_diag1'] = 1\n",
        "    elif (row['level1_diag1'] >= 460 and row['level1_diag1'] < 520) or (np.floor(row['level1_diag1']) == 786):\n",
        "        df.loc[index, 'level1_diag1'] = 2\n",
        "    elif (row['level1_diag1'] >= 520 and row['level1_diag1'] < 580) or (np.floor(row['level1_diag1']) == 787):\n",
        "        df.loc[index, 'level1_diag1'] = 3\n",
        "    elif (np.floor(row['level1_diag1']) == 250):\n",
        "        df.loc[index, 'level1_diag1'] = 4\n",
        "    elif (row['level1_diag1'] >= 800 and row['level1_diag1'] < 1000):\n",
        "        df.loc[index, 'level1_diag1'] = 5\n",
        "    elif (row['level1_diag1'] >= 710 and row['level1_diag1'] < 740):\n",
        "        df.loc[index, 'level1_diag1'] = 6\n",
        "    elif (row['level1_diag1'] >= 580 and row['level1_diag1'] < 630) or (np.floor(row['level1_diag1']) == 788):\n",
        "        df.loc[index, 'level1_diag1'] = 7\n",
        "    elif (row['level1_diag1'] >= 140 and row['level1_diag1'] < 240):\n",
        "        df.loc[index, 'level1_diag1'] = 8\n",
        "    else:\n",
        "        df.loc[index, 'level1_diag1'] = 0\n",
        "        \n",
        "    if (row['level1_diag2'] >= 390 and row['level1_diag2'] < 460) or (np.floor(row['level1_diag2']) == 785):\n",
        "        df.loc[index, 'level1_diag2'] = 1\n",
        "    elif (row['level1_diag2'] >= 460 and row['level1_diag2'] < 520) or (np.floor(row['level1_diag2']) == 786):\n",
        "        df.loc[index, 'level1_diag2'] = 2\n",
        "    elif (row['level1_diag2'] >= 520 and row['level1_diag2'] < 580) or (np.floor(row['level1_diag2']) == 787):\n",
        "        df.loc[index, 'level1_diag2'] = 3\n",
        "    elif (np.floor(row['level1_diag2']) == 250):\n",
        "        df.loc[index, 'level1_diag2'] = 4\n",
        "    elif (row['level1_diag2'] >= 800 and row['level1_diag2'] < 1000):\n",
        "        df.loc[index, 'level1_diag2'] = 5\n",
        "    elif (row['level1_diag2'] >= 710 and row['level1_diag2'] < 740):\n",
        "        df.loc[index, 'level1_diag2'] = 6\n",
        "    elif (row['level1_diag2'] >= 580 and row['level1_diag2'] < 630) or (np.floor(row['level1_diag2']) == 788):\n",
        "        df.loc[index, 'level1_diag2'] = 7\n",
        "    elif (row['level1_diag2'] >= 140 and row['level1_diag2'] < 240):\n",
        "        df.loc[index, 'level1_diag2'] = 8\n",
        "    else:\n",
        "        df.loc[index, 'level1_diag2'] = 0\n",
        "    \n",
        "    if (row['level1_diag3'] >= 390 and row['level1_diag3'] < 460) or (np.floor(row['level1_diag3']) == 785):\n",
        "        df.loc[index, 'level1_diag3'] = 1\n",
        "    elif (row['level1_diag3'] >= 460 and row['level1_diag3'] < 520) or (np.floor(row['level1_diag3']) == 786):\n",
        "        df.loc[index, 'level1_diag3'] = 2\n",
        "    elif (row['level1_diag3'] >= 520 and row['level1_diag3'] < 580) or (np.floor(row['level1_diag3']) == 787):\n",
        "        df.loc[index, 'level1_diag3'] = 3\n",
        "    elif (np.floor(row['level1_diag3']) == 250):\n",
        "        df.loc[index, 'level1_diag3'] = 4\n",
        "    elif (row['level1_diag3'] >= 800 and row['level1_diag3'] < 1000):\n",
        "        df.loc[index, 'level1_diag3'] = 5\n",
        "    elif (row['level1_diag3'] >= 710 and row['level1_diag3'] < 740):\n",
        "        df.loc[index, 'level1_diag3'] = 6\n",
        "    elif (row['level1_diag3'] >= 580 and row['level1_diag3'] < 630) or (np.floor(row['level1_diag3']) == 788):\n",
        "        df.loc[index, 'level1_diag3'] = 7\n",
        "    elif (row['level1_diag3'] >= 140 and row['level1_diag3'] < 240):\n",
        "        df.loc[index, 'level1_diag3'] = 8\n",
        "    else:\n",
        "        df.loc[index, 'level1_diag3'] = 0"
      ],
      "execution_count": 0,
      "outputs": []
    },
    {
      "cell_type": "code",
      "metadata": {
        "id": "xyWbkOhONDl9",
        "colab_type": "code",
        "colab": {}
      },
      "source": [
        "for index, row in df.iterrows():\n",
        "    if (row['level2_diag1'] >= 390 and row['level2_diag1'] < 399):\n",
        "        df.loc[index, 'level2_diag1'] = 1\n",
        "    elif (row['level2_diag1'] >= 401 and row['level2_diag1'] < 415):\n",
        "        df.loc[index, 'level2_diag1'] = 2\n",
        "    elif (row['level2_diag1'] >= 415 and row['level2_diag1'] < 460):\n",
        "        df.loc[index, 'level2_diag1'] = 3\n",
        "    elif (np.floor(row['level2_diag1']) == 785):\n",
        "        df.loc[index, 'level2_diag1'] = 4\n",
        "    elif (row['level2_diag1'] >= 460 and row['level2_diag1'] < 489):\n",
        "        df.loc[index, 'level2_diag1'] = 5\n",
        "    elif (row['level2_diag1'] >= 490 and row['level2_diag1'] < 497):\n",
        "        df.loc[index, 'level2_diag1'] = 6\n",
        "    elif (row['level2_diag1'] >= 500 and row['level2_diag1'] < 520):\n",
        "        df.loc[index, 'level2_diag1'] = 7\n",
        "    elif (np.floor(row['level2_diag1']) == 786):\n",
        "        df.loc[index, 'level2_diag1'] = 8\n",
        "    elif (row['level2_diag1'] >= 520 and row['level2_diag1'] < 530):\n",
        "        df.loc[index, 'level2_diag1'] = 9\n",
        "    elif (row['level2_diag1'] >= 530 and row['level2_diag1'] < 544):\n",
        "        df.loc[index, 'level2_diag1'] = 10\n",
        "    elif (row['level2_diag1'] >= 550 and row['level2_diag1'] < 554):\n",
        "        df.loc[index, 'level2_diag1'] = 11\n",
        "    elif (row['level2_diag1'] >= 555 and row['level2_diag1'] < 580):\n",
        "        df.loc[index, 'level2_diag1'] = 12\n",
        "    elif (np.floor(row['level2_diag1']) == 787):\n",
        "        df.loc[index, 'level2_diag1'] = 13\n",
        "    elif (np.floor(row['level2_diag1']) == 250):\n",
        "        df.loc[index, 'level2_diag1'] = 14\n",
        "    elif (row['level2_diag1'] >= 800 and row['level2_diag1'] < 1000):\n",
        "        df.loc[index, 'level2_diag1'] = 15\n",
        "    elif (row['level2_diag1'] >= 710 and row['level2_diag1'] < 740):\n",
        "        df.loc[index, 'level2_diag1'] = 16\n",
        "    elif (row['level2_diag1'] >= 580 and row['level2_diag1'] < 630):\n",
        "        df.loc[index, 'level2_diag1'] = 17\n",
        "    elif (np.floor(row['level2_diag1']) == 788):\n",
        "        df.loc[index, 'level2_diag1'] = 18\n",
        "    elif (row['level2_diag1'] >= 140 and row['level2_diag1'] < 240):\n",
        "        df.loc[index, 'level2_diag1'] = 19\n",
        "    elif row['level2_diag1'] >= 240 and row['level2_diag1'] < 280 and (np.floor(row['level2_diag1']) != 250):\n",
        "        df.loc[index, 'level2_diag1'] = 20\n",
        "    elif (row['level2_diag1'] >= 680 and row['level2_diag1'] < 710) or (np.floor(row['level2_diag1']) == 782):\n",
        "        df.loc[index, 'level2_diag1'] = 21\n",
        "    elif (row['level2_diag1'] >= 290 and row['level2_diag1'] < 320):\n",
        "        df.loc[index, 'level2_diag1'] = 22\n",
        "    else:\n",
        "        df.loc[index, 'level2_diag1'] = 0\n",
        "        \n",
        "    if (row['level2_diag2'] >= 390 and row['level2_diag2'] < 399):\n",
        "        df.loc[index, 'level2_diag2'] = 1\n",
        "    elif (row['level2_diag2'] >= 401 and row['level2_diag2'] < 415):\n",
        "        df.loc[index, 'level2_diag2'] = 2\n",
        "    elif (row['level2_diag2'] >= 415 and row['level2_diag2'] < 460):\n",
        "        df.loc[index, 'level2_diag2'] = 3\n",
        "    elif (np.floor(row['level2_diag2']) == 785):\n",
        "        df.loc[index, 'level2_diag2'] = 4\n",
        "    elif (row['level2_diag2'] >= 460 and row['level2_diag2'] < 489):\n",
        "        df.loc[index, 'level2_diag2'] = 5\n",
        "    elif (row['level2_diag2'] >= 490 and row['level2_diag2'] < 497):\n",
        "        df.loc[index, 'level2_diag2'] = 6\n",
        "    elif (row['level2_diag2'] >= 500 and row['level2_diag2'] < 520):\n",
        "        df.loc[index, 'level2_diag2'] = 7\n",
        "    elif (np.floor(row['level2_diag2']) == 786):\n",
        "        df.loc[index, 'level2_diag2'] = 8\n",
        "    elif (row['level2_diag2'] >= 520 and row['level2_diag2'] < 530):\n",
        "        df.loc[index, 'level2_diag2'] = 9\n",
        "    elif (row['level2_diag2'] >= 530 and row['level2_diag2'] < 544):\n",
        "        df.loc[index, 'level2_diag2'] = 10\n",
        "    elif (row['level2_diag2'] >= 550 and row['level2_diag2'] < 554):\n",
        "        df.loc[index, 'level2_diag2'] = 11\n",
        "    elif (row['level2_diag2'] >= 555 and row['level2_diag2'] < 580):\n",
        "        df.loc[index, 'level2_diag2'] = 12\n",
        "    elif (np.floor(row['level2_diag2']) == 787):\n",
        "        df.loc[index, 'level2_diag2'] = 13\n",
        "    elif (np.floor(row['level2_diag2']) == 250):\n",
        "        df.loc[index, 'level2_diag2'] = 14\n",
        "    elif (row['level2_diag2'] >= 800 and row['level2_diag2'] < 1000):\n",
        "        df.loc[index, 'level2_diag2'] = 15\n",
        "    elif (row['level2_diag2'] >= 710 and row['level2_diag2'] < 740):\n",
        "        df.loc[index, 'level2_diag2'] = 16\n",
        "    elif (row['level2_diag2'] >= 580 and row['level2_diag2'] < 630):\n",
        "        df.loc[index, 'level2_diag2'] = 17\n",
        "    elif (np.floor(row['level2_diag2']) == 788):\n",
        "        df.loc[index, 'level2_diag2'] = 18\n",
        "    elif (row['level2_diag2'] >= 140 and row['level2_diag2'] < 240):\n",
        "        df.loc[index, 'level2_diag2'] = 19\n",
        "    elif row['level2_diag2'] >= 240 and row['level2_diag2'] < 280 and (np.floor(row['level2_diag2']) != 250):\n",
        "        df.loc[index, 'level2_diag2'] = 20\n",
        "    elif (row['level2_diag2'] >= 680 and row['level2_diag2'] < 710) or (np.floor(row['level2_diag2']) == 782):\n",
        "        df.loc[index, 'level2_diag2'] = 21\n",
        "    elif (row['level2_diag2'] >= 290 and row['level2_diag2'] < 320):\n",
        "        df.loc[index, 'level2_diag2'] = 22\n",
        "    else:\n",
        "        df.loc[index, 'level2_diag2'] = 0\n",
        "        \n",
        "        \n",
        "    if (row['level2_diag3'] >= 390 and row['level2_diag3'] < 399):\n",
        "        df.loc[index, 'level2_diag3'] = 1\n",
        "    elif (row['level2_diag3'] >= 401 and row['level2_diag3'] < 415):\n",
        "        df.loc[index, 'level2_diag3'] = 2\n",
        "    elif (row['level2_diag3'] >= 415 and row['level2_diag3'] < 460):\n",
        "        df.loc[index, 'level2_diag3'] = 3\n",
        "    elif (np.floor(row['level2_diag3']) == 785):\n",
        "        df.loc[index, 'level2_diag3'] = 4\n",
        "    elif (row['level2_diag3'] >= 460 and row['level2_diag3'] < 489):\n",
        "        df.loc[index, 'level2_diag3'] = 5\n",
        "    elif (row['level2_diag3'] >= 490 and row['level2_diag3'] < 497):\n",
        "        df.loc[index, 'level2_diag3'] = 6\n",
        "    elif (row['level2_diag3'] >= 500 and row['level2_diag3'] < 520):\n",
        "        df.loc[index, 'level2_diag3'] = 7\n",
        "    elif (np.floor(row['level2_diag3']) == 786):\n",
        "        df.loc[index, 'level2_diag3'] = 8\n",
        "    elif (row['level2_diag3'] >= 520 and row['level2_diag3'] < 530):\n",
        "        df.loc[index, 'level2_diag3'] = 9\n",
        "    elif (row['level2_diag3'] >= 530 and row['level2_diag3'] < 544):\n",
        "        df.loc[index, 'level2_diag3'] = 10\n",
        "    elif (row['level2_diag3'] >= 550 and row['level2_diag3'] < 554):\n",
        "        df.loc[index, 'level2_diag3'] = 11\n",
        "    elif (row['level2_diag3'] >= 555 and row['level2_diag3'] < 580):\n",
        "        df.loc[index, 'level2_diag3'] = 12\n",
        "    elif (np.floor(row['level2_diag3']) == 787):\n",
        "        df.loc[index, 'level2_diag3'] = 13\n",
        "    elif (np.floor(row['level2_diag3']) == 250):\n",
        "        df.loc[index, 'level2_diag3'] = 14\n",
        "    elif (row['level2_diag3'] >= 800 and row['level2_diag3'] < 1000):\n",
        "        df.loc[index, 'level2_diag3'] = 15\n",
        "    elif (row['level2_diag3'] >= 710 and row['level2_diag3'] < 740):\n",
        "        df.loc[index, 'level2_diag3'] = 16\n",
        "    elif (row['level2_diag3'] >= 580 and row['level2_diag3'] < 630):\n",
        "        df.loc[index, 'level2_diag3'] = 17\n",
        "    elif (np.floor(row['level2_diag3']) == 788):\n",
        "        df.loc[index, 'level2_diag3'] = 18\n",
        "    elif (row['level2_diag3'] >= 140 and row['level2_diag3'] < 240):\n",
        "        df.loc[index, 'level2_diag3'] = 19\n",
        "    elif row['level2_diag3'] >= 240 and row['level2_diag3'] < 280 and (np.floor(row['level2_diag3']) != 250):\n",
        "        df.loc[index, 'level2_diag3'] = 20\n",
        "    elif (row['level2_diag3'] >= 680 and row['level2_diag3'] < 710) or (np.floor(row['level2_diag3']) == 782):\n",
        "        df.loc[index, 'level2_diag3'] = 21\n",
        "    elif (row['level2_diag3'] >= 290 and row['level2_diag3'] < 320):\n",
        "        df.loc[index, 'level2_diag3'] = 22\n",
        "    else:\n",
        "        df.loc[index, 'level2_diag3'] = 0"
      ],
      "execution_count": 0,
      "outputs": []
    },
    {
      "cell_type": "markdown",
      "metadata": {
        "id": "YUZi5MbuOwoa",
        "colab_type": "text"
      },
      "source": [
        "Now we adjust the points for modelling"
      ]
    },
    {
      "cell_type": "code",
      "metadata": {
        "id": "6mZDjmXmOt4g",
        "colab_type": "code",
        "colab": {}
      },
      "source": [
        "df['age'] = df['age'].astype('int64')\n",
        "print(df.age.value_counts())\n",
        "# convert age categories to mid-point values\n",
        "age_dict = {1:5, 2:15, 3:25, 4:35, 5:45, 6:55, 7:65, 8:75, 9:85, 10:95}\n",
        "df['age'] = df.age.map(age_dict)\n",
        "print(df.age.value_counts())"
      ],
      "execution_count": 0,
      "outputs": []
    },
    {
      "cell_type": "code",
      "metadata": {
        "id": "h89ZWrKYPP3U",
        "colab_type": "code",
        "colab": {}
      },
      "source": [
        "#The commented out features are for our adjusted dataframe, we never created these extra columns\n",
        "# convert data type of nominal features in dataframe to 'object' type\n",
        "i = ['encounter_id', 'patient_nbr', 'gender', 'admission_type_id', 'discharge_disposition_id', 'admission_source_id',\\\n",
        "          'A1Cresult', 'metformin', 'repaglinide', 'nateglinide', 'chlorpropamide', 'glimepiride', 'acetohexamide', \\\n",
        "          'glipizide', 'glyburide', 'tolbutamide', 'pioglitazone', 'rosiglitazone', 'acarbose','miglitol', \\\n",
        "          'troglitazone', 'tolazamide', 'insulin', 'glyburide-metformin', 'glipizide-metformin', \\\n",
        "          'glimepiride-pioglitazone', 'metformin-rosiglitazone', 'metformin-pioglitazone', 'change', 'diabetesMed', \\\n",
        "          'age', 'A1Cresult', 'max_glu_serum']\n",
        "#'level1_diag1', 'level1_diag2', 'level1_diag3', 'level2_diag1', 'level2_diag2', 'level2_diag3'\n",
        "\n",
        "df[i] = df[i].astype('object')"
      ],
      "execution_count": 0,
      "outputs": []
    },
    {
      "cell_type": "code",
      "metadata": {
        "id": "hf9U5GeWPbAf",
        "colab_type": "code",
        "colab": {}
      },
      "source": [
        "df['nummed'] = 0\n",
        "\n",
        "for col in keys:\n",
        "    df['nummed'] = df['nummed'] + df[col]\n",
        "df['nummed'].value_counts()"
      ],
      "execution_count": 0,
      "outputs": []
    },
    {
      "cell_type": "code",
      "metadata": {
        "id": "ZFoNurVcPd1W",
        "colab_type": "code",
        "colab": {}
      },
      "source": [
        "# get list of only numeric features\n",
        "num_col = list(set(list(df._get_numeric_data().columns))- {'readmitted'})\n",
        "num_col"
      ],
      "execution_count": 0,
      "outputs": []
    },
    {
      "cell_type": "code",
      "metadata": {
        "id": "YbThm2zxPgJe",
        "colab_type": "code",
        "colab": {}
      },
      "source": [
        "# Removing skewnewss and kurtosis using log transformation if it is above a threshold value -  2\n",
        "\n",
        "statdataframe = pd.DataFrame()\n",
        "statdataframe['numeric_column'] = num_col\n",
        "skew_before = []\n",
        "skew_after = []\n",
        "\n",
        "kurt_before = []\n",
        "kurt_after = []\n",
        "\n",
        "standard_deviation_before = []\n",
        "standard_deviation_after = []\n",
        "\n",
        "log_transform_needed = []\n",
        "\n",
        "log_type = []\n",
        "\n",
        "for i in num_col:\n",
        "    skewval = df[i].skew()\n",
        "    skew_before.append(skewval)\n",
        "    \n",
        "    kurtval = df[i].kurtosis()\n",
        "    kurt_before.append(kurtval)\n",
        "    \n",
        "    sdval = df[i].std()\n",
        "    standard_deviation_before.append(sdval)\n",
        "    \n",
        "    if (abs(skewval) >2) & (abs(kurtval) >2):\n",
        "        log_transform_needed.append('Yes')\n",
        "        \n",
        "        if len(df[df[i] == 0])/len(df) <=0.02:\n",
        "            log_type.append('log')\n",
        "            skewvalnew = np.log(pd.DataFrame(df[train_data[i] > 0])[i]).skew()\n",
        "            skew_after.append(skewvalnew)\n",
        "            \n",
        "            kurtvalnew = np.log(pd.DataFrame(df[train_data[i] > 0])[i]).kurtosis()\n",
        "            kurt_after.append(kurtvalnew)\n",
        "            \n",
        "            sdvalnew = np.log(pd.DataFrame(df[train_data[i] > 0])[i]).std()\n",
        "            standard_deviation_after.append(sdvalnew)\n",
        "            \n",
        "        else:\n",
        "            log_type.append('log1p')\n",
        "            skewvalnew = np.log1p(pd.DataFrame(df[df[i] >= 0])[i]).skew()\n",
        "            skew_after.append(skewvalnew)\n",
        "        \n",
        "            kurtvalnew = np.log1p(pd.DataFrame(df[df[i] >= 0])[i]).kurtosis()\n",
        "            kurt_after.append(kurtvalnew)\n",
        "            \n",
        "            sdvalnew = np.log1p(pd.DataFrame(df[df[i] >= 0])[i]).std()\n",
        "            standard_deviation_after.append(sdvalnew)\n",
        "            \n",
        "    else:\n",
        "        log_type.append('NA')\n",
        "        log_transform_needed.append('No')\n",
        "        \n",
        "        skew_after.append(skewval)\n",
        "        kurt_after.append(kurtval)\n",
        "        standard_deviation_after.append(sdval)\n",
        "\n",
        "statdataframe['skew_before'] = skew_before\n",
        "statdataframe['kurtosis_before'] = kurt_before\n",
        "statdataframe['standard_deviation_before'] = standard_deviation_before\n",
        "statdataframe['log_transform_needed'] = log_transform_needed\n",
        "statdataframe['log_type'] = log_type\n",
        "statdataframe['skew_after'] = skew_after\n",
        "statdataframe['kurtosis_after'] = kurt_after\n",
        "statdataframe['standard_deviation_after'] = standard_deviation_after"
      ],
      "execution_count": 0,
      "outputs": []
    },
    {
      "cell_type": "code",
      "metadata": {
        "id": "3FYIiRqiPj9j",
        "colab_type": "code",
        "colab": {}
      },
      "source": [
        "# performing the log transformation for the columns determined to be needing it above.\n",
        "\n",
        "for i in range(len(statdataframe)):\n",
        "    if statdataframe['log_transform_needed'][i] == 'Yes':\n",
        "        colname = str(statdataframe['numeric_column'][i])\n",
        "        \n",
        "        if statdataframe['log_type'][i] == 'log':\n",
        "            df = df[df[colname] > 0]\n",
        "            df[colname + \"_log\"] = np.log(df[colname])\n",
        "            \n",
        "        elif statdataframe['log_type'][i] == 'log1p':\n",
        "            df = df[df[colname] >= 0]\n",
        "            df[colname + \"_log1p\"] = np.log1p(df[colname])"
      ],
      "execution_count": 0,
      "outputs": []
    },
    {
      "cell_type": "code",
      "metadata": {
        "id": "96kM-hkePnOx",
        "colab_type": "code",
        "colab": {}
      },
      "source": [
        "df = df.drop(['number_outpatient', 'number_inpatient', 'number_emergency','service_utilization'], axis = 1)"
      ],
      "execution_count": 0,
      "outputs": []
    },
    {
      "cell_type": "code",
      "metadata": {
        "id": "1Y7tWw1FPpdQ",
        "colab_type": "code",
        "colab": {}
      },
      "source": [
        "# get list of only numeric features\n",
        "numerics = list(set(list(df._get_numeric_data().columns))- {'readmitted'})\n",
        "numerics"
      ],
      "execution_count": 0,
      "outputs": []
    },
    {
      "cell_type": "code",
      "metadata": {
        "id": "NqQSzIo9P6BI",
        "colab_type": "code",
        "colab": {}
      },
      "source": [
        "# show list of features that are categorical\n",
        "df.encounter_id = df.encounter_id.astype('int64')\n",
        "df.patient_nbr = df.patient_nbr.astype('int64')\n",
        "df.diabetesMed = df.diabetesMed.astype('int64')\n",
        "df.change = df.change.astype('int64')\n",
        "\n",
        "# convert data type of nominal features in dataframe to 'object' type for aggregating\n",
        "i = ['metformin', 'repaglinide', 'nateglinide', 'chlorpropamide', 'glimepiride', 'acetohexamide', \\\n",
        "          'glipizide', 'glyburide', 'tolbutamide', 'pioglitazone', 'rosiglitazone', 'acarbose','miglitol', \\\n",
        "          'troglitazone', 'tolazamide', 'insulin', 'glyburide-metformin', 'glipizide-metformin', \\\n",
        "          'glimepiride-pioglitazone', 'metformin-rosiglitazone', 'metformin-pioglitazone','A1Cresult']\n",
        "df[i] = df[i].astype('int64')\n",
        "\n",
        "df.dtypes"
      ],
      "execution_count": 0,
      "outputs": []
    },
    {
      "cell_type": "code",
      "metadata": {
        "id": "NvKUIHhaQC2q",
        "colab_type": "code",
        "colab": {}
      },
      "source": [
        "df['readmitted'] = df['readmitted'].apply(lambda x: 0 if x == 2 else x)"
      ],
      "execution_count": 0,
      "outputs": []
    },
    {
      "cell_type": "code",
      "metadata": {
        "id": "FLqqMOeyQKlq",
        "colab_type": "code",
        "colab": {}
      },
      "source": [
        "# These columns are never created in our adjusted data fram so we don't run this cell for it (Other than diag_1,2,3)\n",
        "# drop individual diagnosis columns that have too granular disease information\n",
        "# also drop level 2 categorization (which was not comparable with any reference)\n",
        "# also drop level 1 secondary and tertiary diagnoses\n",
        "df.drop(['diag_1', 'diag_2', 'diag_3', 'level2_diag1', 'level1_diag2', 'level2_diag2', 'level1_diag3',\n",
        "         'level2_diag3'], axis=1, inplace=True)"
      ],
      "execution_count": 0,
      "outputs": []
    },
    {
      "cell_type": "code",
      "metadata": {
        "id": "bhb1A6G6QZLr",
        "colab_type": "code",
        "colab": {}
      },
      "source": [
        "interactionterms = [('num_medications','time_in_hospital'),\n",
        "('num_medications','num_procedures'),\n",
        "('time_in_hospital','num_lab_procedures'),\n",
        "('num_medications','num_lab_procedures'),\n",
        "('num_medications','number_diagnoses'),\n",
        "('age','number_diagnoses'),\n",
        "('change','num_medications'),\n",
        "('number_diagnoses','time_in_hospital'),\n",
        "('num_medications','numchange')]"
      ],
      "execution_count": 0,
      "outputs": []
    },
    {
      "cell_type": "code",
      "metadata": {
        "id": "cDYdI2plQfKc",
        "colab_type": "code",
        "colab": {}
      },
      "source": [
        "for inter in interactionterms:\n",
        "    name = inter[0] + '|' + inter[1]\n",
        "    df[name] = df[inter[0]] * df[inter[1]]"
      ],
      "execution_count": 0,
      "outputs": []
    },
    {
      "cell_type": "code",
      "metadata": {
        "id": "RpZuLca5Qi4S",
        "colab_type": "code",
        "colab": {}
      },
      "source": [
        "# Feature Scaling\n",
        "datf = pd.DataFrame()\n",
        "datf['features'] = numerics\n",
        "datf['std_dev'] = datf['features'].apply(lambda x: df[x].std())\n",
        "datf['mean'] = datf['features'].apply(lambda x: df[x].mean())"
      ],
      "execution_count": 0,
      "outputs": []
    },
    {
      "cell_type": "code",
      "metadata": {
        "id": "7ESPzFb-RkHx",
        "colab_type": "code",
        "colab": {}
      },
      "source": [
        "# dropping multiple encounters while keeping either first or last encounter of these patients\n",
        "df2 = df.drop_duplicates(subset= ['patient_nbr'], keep = 'first')\n",
        "df2.shape"
      ],
      "execution_count": 0,
      "outputs": []
    },
    {
      "cell_type": "code",
      "metadata": {
        "id": "MOQoaU4ERmO-",
        "colab_type": "code",
        "colab": {}
      },
      "source": [
        "# standardize function\n",
        "def standardize(raw_data):\n",
        "    return ((raw_data - np.mean(raw_data, axis = 0)) / np.std(raw_data, axis = 0))"
      ],
      "execution_count": 0,
      "outputs": []
    },
    {
      "cell_type": "code",
      "metadata": {
        "id": "6yG806LfRoMw",
        "colab_type": "code",
        "colab": {}
      },
      "source": [
        "df2[numerics] = standardize(df2[numerics])\n",
        "import scipy as sp\n",
        "df2 = df2[(np.abs(sp.stats.zscore(df2[numerics])) < 3).all(axis=1)]"
      ],
      "execution_count": 0,
      "outputs": []
    },
    {
      "cell_type": "code",
      "metadata": {
        "id": "8P3w-qsLW3vM",
        "colab_type": "code",
        "colab": {}
      },
      "source": [
        "#df2['level1_diag1'] = df2['level1_diag1'].astype('object')\n",
        "df_pd = pd.get_dummies(df2, columns=['gender', 'admission_type_id', 'discharge_disposition_id',\n",
        "                                      'admission_source_id', 'max_glu_serum', 'A1Cresult'], drop_first = True)\n",
        "#'level1_diag1'\n",
        "just_dummies = pd.get_dummies(df_pd['race'])\n",
        "df_pd = pd.concat([df_pd, just_dummies], axis=1)      \n",
        "df_pd.drop(['race'], inplace=True, axis=1)"
      ],
      "execution_count": 0,
      "outputs": []
    },
    {
      "cell_type": "code",
      "metadata": {
        "id": "nC-t-3d-W6s9",
        "colab_type": "code",
        "colab": {}
      },
      "source": [
        "non_num_cols = ['race', 'gender', 'admission_type_id', 'discharge_disposition_id', 'admission_source_id', \n",
        "                'max_glu_serum', 'A1Cresult', 'level1_diag1' ]"
      ],
      "execution_count": 0,
      "outputs": []
    },
    {
      "cell_type": "code",
      "metadata": {
        "id": "200SjM62W8SV",
        "colab_type": "code",
        "colab": {}
      },
      "source": [
        "num_cols = list(set(list(df._get_numeric_data().columns))- {'readmitted', 'change'})\n",
        "num_cols"
      ],
      "execution_count": 0,
      "outputs": []
    },
    {
      "cell_type": "code",
      "metadata": {
        "id": "Ss9fp4MoW_JE",
        "colab_type": "code",
        "colab": {}
      },
      "source": [
        "new_non_num_cols = []\n",
        "for i in non_num_cols:\n",
        "    for j in df_pd.columns:\n",
        "        if i in j:\n",
        "            new_non_num_cols.append(j)"
      ],
      "execution_count": 0,
      "outputs": []
    },
    {
      "cell_type": "code",
      "metadata": {
        "id": "rzEK9rjqXB1Y",
        "colab_type": "code",
        "colab": {}
      },
      "source": [
        "l = []\n",
        "for feature in list(df_pd.columns):\n",
        "    if '|' in feature:\n",
        "        l.append(feature)\n",
        "l"
      ],
      "execution_count": 0,
      "outputs": []
    },
    {
      "cell_type": "code",
      "metadata": {
        "id": "SPR2Ygb7XTtl",
        "colab_type": "code",
        "colab": {}
      },
      "source": [
        "# We save processed csvs to make our modeling \n",
        "#df_pd.to_csv(\"../content/filtered_final2.csv\")"
      ],
      "execution_count": 0,
      "outputs": []
    }
  ]
}